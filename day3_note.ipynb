{
 "cells": [
  {
   "cell_type": "markdown",
   "metadata": {},
   "source": [
    "**Welcome to day 3 of 30 days python series**\n",
    "\n",
    "#### String Function in Python"
   ]
  },
  {
   "cell_type": "markdown",
   "metadata": {},
   "source": [
    "- String Concatination + and *\n",
    "- Access individual characters using indexing.\n",
    "- Slice strings to extract substrings."
   ]
  },
  {
   "cell_type": "code",
   "execution_count": 26,
   "metadata": {},
   "outputs": [
    {
     "name": "stdout",
     "output_type": "stream",
     "text": [
      "Hello Python\n"
     ]
    }
   ],
   "source": [
    "x = 'Python'\n",
    "h = 'Hello'\n",
    "\n",
    "print(h + \" \" + x)"
   ]
  },
  {
   "cell_type": "code",
   "execution_count": 32,
   "metadata": {},
   "outputs": [
    {
     "name": "stdout",
     "output_type": "stream",
     "text": [
      "appleappleappleappleappleappleappleappleappleappleappleappleappleappleappleappleappleappleappleapple\n"
     ]
    }
   ],
   "source": [
    "name = 'apple'\n",
    "\n",
    "print(name * 20)"
   ]
  },
  {
   "cell_type": "code",
   "execution_count": 54,
   "metadata": {},
   "outputs": [
    {
     "data": {
      "text/plain": [
       "'Welcome to zero analyst mr mike'"
      ]
     },
     "execution_count": 54,
     "metadata": {},
     "output_type": "execute_result"
    }
   ],
   "source": [
    "x = \"Welcome to zero analyst mr Sam\"\n",
    "# name = 'sam'\n",
    "\n",
    "x.replace(\"Sam\", \"mike\", 2)"
   ]
  },
  {
   "cell_type": "code",
   "execution_count": 56,
   "metadata": {},
   "outputs": [
    {
     "data": {
      "text/plain": [
       "20"
      ]
     },
     "execution_count": 56,
     "metadata": {},
     "output_type": "execute_result"
    }
   ],
   "source": [
    "# find z index number\n",
    "\n",
    "x.find('y')"
   ]
  },
  {
   "cell_type": "code",
   "execution_count": 65,
   "metadata": {},
   "outputs": [
    {
     "name": "stdout",
     "output_type": "stream",
     "text": [
      "old string 19\n",
      "new string 13\n"
     ]
    }
   ],
   "source": [
    "# strip \n",
    "# print(len(\" Hi subscriber     \"))\n",
    "\n",
    "x = \" Hi subscriber     \"\n",
    "y = len(x.strip())\n",
    "z = len(\" Hi subscriber     \")\n",
    "\n",
    "print(f'old string {z}')\n",
    "\n",
    "print(f'new string {y}')"
   ]
  },
  {
   "cell_type": "code",
   "execution_count": 69,
   "metadata": {},
   "outputs": [
    {
     "data": {
      "text/plain": [
       "5"
      ]
     },
     "execution_count": 69,
     "metadata": {},
     "output_type": "execute_result"
    }
   ],
   "source": [
    "# count\n",
    "x = \"Hello Welcome to zero analyst mr Sam Sam Sam\"\n",
    "\n",
    "x.count('a')"
   ]
  },
  {
   "cell_type": "markdown",
   "metadata": {},
   "source": [
    "### Slicing in Python"
   ]
  },
  {
   "cell_type": "code",
   "execution_count": 103,
   "metadata": {},
   "outputs": [
    {
     "data": {
      "text/plain": [
       "'iPhone'"
      ]
     },
     "execution_count": 103,
     "metadata": {},
     "output_type": "execute_result"
    }
   ],
   "source": [
    "product_name = 'iPhone 15'\n",
    "category = 'electronic'\n",
    "\n",
    "\n",
    "# slice start:end -- end index is not included\n",
    "# start : end + 1\n",
    "product_name[0:5+1]\n",
    "\n",
    "# product_name[start_index:end_index]\n",
    "\n",
    "\n",
    "# product_name[-2:]\n",
    "product_name[:-4+1]\n"
   ]
  },
  {
   "cell_type": "code",
   "execution_count": null,
   "metadata": {},
   "outputs": [],
   "source": []
  },
  {
   "cell_type": "code",
   "execution_count": 57,
   "metadata": {},
   "outputs": [
    {
     "data": {
      "text/plain": [
       "'y'"
      ]
     },
     "execution_count": 57,
     "metadata": {},
     "output_type": "execute_result"
    }
   ],
   "source": [
    "x[20]"
   ]
  },
  {
   "cell_type": "markdown",
   "metadata": {},
   "source": [
    "Common string method\n",
    "- .upper() -- convert string to upper case\n",
    "- .lower(), -- convert given string to lower case\n",
    "- .replace(), -- replace string to given\n",
    "- .find(), -- find string index\n",
    "- .strip(), -- remove white space before and after\n",
    "- .count(). -- count occurance "
   ]
  },
  {
   "cell_type": "code",
   "execution_count": 126,
   "metadata": {},
   "outputs": [
    {
     "name": "stdout",
     "output_type": "stream",
     "text": [
      "Thank\tyou mr 'Rahul', for coming in my birthday party\n"
     ]
    }
   ],
   "source": [
    "thank_mail = 'Thank\\tyou mr \\'Rahul\\', for coming in my birthday party'\n",
    "\n",
    "print(thank_mail)"
   ]
  },
  {
   "cell_type": "code",
   "execution_count": 134,
   "metadata": {},
   "outputs": [
    {
     "name": "stdout",
     "output_type": "stream",
     "text": [
      "users\\local\\Desktop\n"
     ]
    }
   ],
   "source": [
    "path = 'users\\\\local\\\\Desktop'\n",
    "print(path)"
   ]
  },
  {
   "cell_type": "code",
   "execution_count": 130,
   "metadata": {},
   "outputs": [
    {
     "name": "stdout",
     "output_type": "stream",
     "text": [
      "Select One of the the option Cold\\Hot\n"
     ]
    }
   ],
   "source": [
    "print('Select One of the the option Cold\\\\Hot')"
   ]
  },
  {
   "cell_type": "markdown",
   "metadata": {},
   "source": [
    "**Escape Characters**\n",
    "- \\n add new line\n",
    "- \\t add tab space\n",
    "- \\\\ -- used for skiping text"
   ]
  },
  {
   "cell_type": "markdown",
   "metadata": {},
   "source": [
    "**String Formatting**\n",
    "\n",
    "-- .formating  \n",
    "-- f'formating"
   ]
  },
  {
   "cell_type": "code",
   "execution_count": 138,
   "metadata": {},
   "outputs": [
    {
     "name": "stdout",
     "output_type": "stream",
     "text": [
      "Hello mr/ms Welcome Rahul to our home\n"
     ]
    }
   ],
   "source": [
    "name = 'Rahul'\n",
    "\n",
    "greetings = 'Welcome'\n",
    "\n",
    "# print(f\"Hello mr/ms {name} {greetings} to our home\")\n",
    "\n",
    "# print(\"Hello mr/ms {} {} to our home\".format(greetings, name))"
   ]
  },
  {
   "cell_type": "markdown",
   "metadata": {},
   "source": [
    "Advanced String Methods"
   ]
  },
  {
   "cell_type": "markdown",
   "metadata": {},
   "source": [
    "- .split(), \n",
    "- .join()"
   ]
  },
  {
   "cell_type": "code",
   "execution_count": 157,
   "metadata": {},
   "outputs": [
    {
     "data": {
      "text/plain": [
       "3"
      ]
     },
     "execution_count": 157,
     "metadata": {},
     "output_type": "execute_result"
    }
   ],
   "source": [
    "fruits = 'Apple, Banana, Cherry'\n",
    "\n",
    "len(fruits.split(','))"
   ]
  },
  {
   "cell_type": "code",
   "execution_count": 179,
   "metadata": {},
   "outputs": [
    {
     "data": {
      "text/plain": [
       "'Learning+python+is+really+easy'"
      ]
     },
     "execution_count": 179,
     "metadata": {},
     "output_type": "execute_result"
    }
   ],
   "source": [
    "sentence = ['Learning', 'python', 'is', 'really', 'easy']\n",
    "\n",
    "# convert it back to string \"\"\n",
    "\n",
    "comma = ('+')\n",
    "\n",
    "x = comma.join(sentence)\n",
    "x\n"
   ]
  },
  {
   "cell_type": "markdown",
   "metadata": {},
   "source": [
    "### Mini Projects 1\n",
    "\n",
    "-- Input a sentence from the user.  \n",
    "-- Count the number of words in the sentence  \n",
    "-- Make sure it doesn't count space\n"
   ]
  },
  {
   "cell_type": "markdown",
   "metadata": {},
   "source": [
    "#### Project 2: Email id Generate\n",
    "Take the user's first and last name as input.  \n",
    "Generate a gmail_id for the user by concatenating the first three letters of the   first name and the last three letters of the last name with domain @gmail.com \n",
    "Ensure the username is lowercase and has no spaces.  "
   ]
  },
  {
   "cell_type": "code",
   "execution_count": null,
   "metadata": {},
   "outputs": [],
   "source": []
  }
 ],
 "metadata": {
  "kernelspec": {
   "display_name": "my_venv",
   "language": "python",
   "name": "python3"
  },
  "language_info": {
   "codemirror_mode": {
    "name": "ipython",
    "version": 3
   },
   "file_extension": ".py",
   "mimetype": "text/x-python",
   "name": "python",
   "nbconvert_exporter": "python",
   "pygments_lexer": "ipython3",
   "version": "3.12.6"
  }
 },
 "nbformat": 4,
 "nbformat_minor": 2
}
