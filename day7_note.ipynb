{
 "cells": [
  {
   "cell_type": "markdown",
   "metadata": {},
   "source": [
    "### Welcome to day 7 of 30 days python series \n",
    "\n",
    "- For loops\n",
    "- While loops\n",
    "- Range\n",
    "- Continue\n",
    "- Break\n",
    "- Loops through dict and list\n",
    "- Mini Project"
   ]
  },
  {
   "cell_type": "code",
   "execution_count": null,
   "metadata": {},
   "outputs": [],
   "source": [
    "skills = ['AWS', 'GCP', 'Azure']\n",
    "\n",
    "for i in skills:\n",
    "    print(i)"
   ]
  },
  {
   "cell_type": "code",
   "execution_count": null,
   "metadata": {},
   "outputs": [],
   "source": [
    "x = range(1, 10, 4)\n",
    "\n",
    "# x = (1, 2, 3 ,,,,,9)\n",
    "\n",
    "for abc in x:\n",
    "    print(abc)"
   ]
  },
  {
   "cell_type": "code",
   "execution_count": null,
   "metadata": {},
   "outputs": [],
   "source": [
    "range?"
   ]
  },
  {
   "cell_type": "markdown",
   "metadata": {},
   "source": [
    "A for loop in Python is used to iterate over a sequence (like a list, tuple, string, or range) and execute a block of code repeatedly for each item in that sequence."
   ]
  },
  {
   "cell_type": "markdown",
   "metadata": {},
   "source": [
    "**For loops**"
   ]
  },
  {
   "cell_type": "markdown",
   "metadata": {},
   "source": [
    "Break and Continue  \n",
    "break: Terminates the loop.  \n",
    "continue: Skips the current iteration and moves to the next."
   ]
  },
  {
   "cell_type": "markdown",
   "metadata": {},
   "source": [
    "Exercise: Write a for loop that iterates through numbers 1 to 10. Use the continue statement to skip printing the number 5."
   ]
  },
  {
   "cell_type": "markdown",
   "metadata": {},
   "source": [
    "continue -- it is just going to skip 1 iteration \n",
    "break -- simply break the loop"
   ]
  },
  {
   "cell_type": "code",
   "execution_count": null,
   "metadata": {},
   "outputs": [],
   "source": [
    "apple = {\"iPhone 16\": 1299,\n",
    "         \"iPhone 15\": 1099,\n",
    "         \"iPhone 14\": 999,\n",
    "         \"iPhone 13\" : 899\n",
    "         }\n",
    "\n",
    "for i, x in apple.items():\n",
    "    print(f\"Product_name: {i} and Price: {x}\")"
   ]
  },
  {
   "cell_type": "code",
   "execution_count": null,
   "metadata": {},
   "outputs": [],
   "source": [
    "apple = {\"iPhone 16\": 1299,\n",
    "         \"iPhone 15\": 1099,\n",
    "         \"iPhone 14\": 999,\n",
    "         \"iPhone 13\" : 899\n",
    "         }\n",
    "apple.items()"
   ]
  },
  {
   "cell_type": "code",
   "execution_count": null,
   "metadata": {},
   "outputs": [],
   "source": [
    "fruits = [\"apple\", \"banana\", \"cherry\", \"mango\"]\n",
    "\n",
    "for i in fruits:\n",
    "    if i == \"banana\":\n",
    "        continue\n",
    "    print(i)"
   ]
  },
  {
   "cell_type": "code",
   "execution_count": null,
   "metadata": {},
   "outputs": [],
   "source": [
    "for i in range(1, 10000000, 5):\n",
    "    if i == 101:\n",
    "        break # this is going terminate the loops\n",
    "    print(i)\n",
    "    "
   ]
  },
  {
   "cell_type": "code",
   "execution_count": null,
   "metadata": {},
   "outputs": [],
   "source": [
    "fruits = [\"apple\", \"banana\", \"cherry\", \"mango\"]\n",
    "\n",
    "for fru in fruits:\n",
    "    if fru == \"cherry\":\n",
    "        break\n",
    "    print(fru)\n",
    "    "
   ]
  },
  {
   "cell_type": "code",
   "execution_count": null,
   "metadata": {},
   "outputs": [],
   "source": [
    "for i in range(1, 10+1):\n",
    "    if i == 5:\n",
    "        continue\n",
    "    print(i)"
   ]
  },
  {
   "cell_type": "markdown",
   "metadata": {},
   "source": [
    "Continue in While Loop  \n",
    "Skip even numbers from 1 to 10 using the continue statement."
   ]
  },
  {
   "cell_type": "markdown",
   "metadata": {},
   "source": [
    "### While loops\n",
    "A while loop in Python is used to repeat a block of code as long as a specified condition is True. It continues to execute the loop body until the condition becomes False.\n",
    "\n",
    "- Counting Up\n",
    "- Counting Down\n",
    "- Sum of Numbers\n",
    "- 4 multiplication Table\n",
    "- Factorial calculations\n",
    "- Reverse a String"
   ]
  },
  {
   "cell_type": "code",
   "execution_count": 100,
   "metadata": {},
   "outputs": [
    {
     "name": "stdout",
     "output_type": "stream",
     "text": [
      "Hello\n"
     ]
    }
   ],
   "source": [
    "# - Reverse a String\n",
    "\n",
    "string = \"olleH\"\n",
    "\n",
    "reversed_string = \"\"\n",
    "\n",
    "index = len(string)-1\n",
    "\n",
    "while index >=0:\n",
    "    reversed_string += string[index]\n",
    "    \n",
    "    # change index \n",
    "    index -=1\n",
    "\n",
    "print(reversed_string)"
   ]
  },
  {
   "cell_type": "code",
   "execution_count": 74,
   "metadata": {},
   "outputs": [
    {
     "name": "stdout",
     "output_type": "stream",
     "text": [
      "1\n",
      "2\n",
      "3\n",
      "4\n",
      "5\n",
      "6\n",
      "7\n",
      "8\n",
      "9\n",
      "10\n"
     ]
    }
   ],
   "source": [
    "# Print the number till 10 from 1\n",
    "\n",
    "# for i in range(1, 10+1):\n",
    "#     print(i)\n",
    "\n",
    "num = 1\n",
    "while num <= 10:\n",
    "    print(num)\n",
    "    # update the number\n",
    "    num +=1"
   ]
  },
  {
   "cell_type": "code",
   "execution_count": 78,
   "metadata": {},
   "outputs": [
    {
     "name": "stdout",
     "output_type": "stream",
     "text": [
      "10\n",
      "9\n",
      "8\n",
      "7\n",
      "6\n",
      "5\n",
      "4\n",
      "3\n",
      "2\n",
      "1\n",
      "0\n"
     ]
    }
   ],
   "source": [
    "# Counting down\n",
    "\n",
    "# 10 -- 1\n",
    "\n",
    "num = 10\n",
    "\n",
    "while num >= 0:\n",
    "    print(num)\n",
    "    # change the number\n",
    "    num -=1"
   ]
  },
  {
   "cell_type": "code",
   "execution_count": 69,
   "metadata": {},
   "outputs": [
    {
     "name": "stdout",
     "output_type": "stream",
     "text": [
      "11\n"
     ]
    }
   ],
   "source": [
    "# Assignment operator in python\n",
    "\n",
    "friends = 11\n",
    "# friends = friends -1\n",
    "# friends +=2\n",
    "# friends -=2\n",
    "# friends = friends * 2\n",
    "# friends *= 2\n",
    "# friends = friends / 2\n",
    "# friends /=2\n",
    "# friends = friends // 2\n",
    "# friends //=2\n",
    "# friends = friends % 2\n",
    "# friends %= 2\n",
    "print(friends)"
   ]
  },
  {
   "cell_type": "code",
   "execution_count": 85,
   "metadata": {},
   "outputs": [
    {
     "name": "stdout",
     "output_type": "stream",
     "text": [
      "10\n"
     ]
    }
   ],
   "source": [
    "# Sum of Numbers\n",
    "# 1 - 10\n",
    "\n",
    "total = 0\n",
    "num = 1\n",
    "\n",
    "while num <=4:\n",
    "    # print(num)\n",
    "    total += num\n",
    "    \n",
    "    # increase number\n",
    "    num += 1\n",
    "print(total)"
   ]
  },
  {
   "cell_type": "code",
   "execution_count": 86,
   "metadata": {},
   "outputs": [
    {
     "name": "stdout",
     "output_type": "stream",
     "text": [
      "4 x 1 = 4\n",
      "4 x 2 = 8\n",
      "4 x 3 = 12\n",
      "4 x 4 = 16\n",
      "4 x 5 = 20\n",
      "4 x 6 = 24\n",
      "4 x 7 = 28\n",
      "4 x 8 = 32\n",
      "4 x 9 = 36\n",
      "4 x 10 = 40\n"
     ]
    }
   ],
   "source": [
    "# 4 multiplication Table\n",
    "\n",
    "number = 1\n",
    "\n",
    "# 4x1 = 4\n",
    "# 4x2 = 8\n",
    "\n",
    "while number <=10:\n",
    "    print(f\"4 x {number} = {4*number}\")\n",
    "    \n",
    "    #increasing number value by 1\n",
    "    number+= 1"
   ]
  },
  {
   "cell_type": "code",
   "execution_count": 88,
   "metadata": {},
   "outputs": [
    {
     "name": "stdout",
     "output_type": "stream",
     "text": [
      "4 x 1 = 6876786\n",
      "4 x 2 = 13753572\n",
      "4 x 3 = 20630358\n",
      "4 x 4 = 27507144\n",
      "4 x 5 = 34383930\n",
      "4 x 6 = 41260716\n",
      "4 x 7 = 48137502\n",
      "4 x 8 = 55014288\n",
      "4 x 9 = 61891074\n",
      "4 x 10 = 68767860\n"
     ]
    }
   ],
   "source": [
    "# 4 multiplication Table\n",
    "\n",
    "number = 1\n",
    "\n",
    "# 4x1 = 4\n",
    "# 4x2 = 8\n",
    "\n",
    "while number <=10:\n",
    "    print(f\"4 x {number} = {6876786*number}\")\n",
    "    \n",
    "    #increasing number value by 1\n",
    "    number+= 1"
   ]
  },
  {
   "cell_type": "code",
   "execution_count": 94,
   "metadata": {},
   "outputs": [
    {
     "data": {
      "text/plain": [
       "120"
      ]
     },
     "execution_count": 94,
     "metadata": {},
     "output_type": "execute_result"
    }
   ],
   "source": [
    "# Factorial calculations\n",
    "# 3*2*1 = 6\n",
    "\n",
    "# 5*4*3*2*1 = 120\n",
    "\n",
    "3\n",
    "2\n",
    "\n",
    "factorials = 1\n",
    "\n",
    "num = int(input(\"Please enter number to get factorials :\"))\n",
    "\n",
    "if num == 1:\n",
    "    print(\"factorial of 1 itself only\")\n",
    "else:\n",
    "    while num > 1:\n",
    "        factorials *= num\n",
    "        #decrease number\n",
    "        num -= 1 \n",
    "        \n",
    "factorials"
   ]
  },
  {
   "cell_type": "code",
   "execution_count": 104,
   "metadata": {},
   "outputs": [
    {
     "data": {
      "text/plain": [
       "56"
      ]
     },
     "execution_count": 104,
     "metadata": {},
     "output_type": "execute_result"
    }
   ],
   "source": [
    "import random\n",
    "\n",
    "random.randint(1, 100)"
   ]
  },
  {
   "cell_type": "markdown",
   "metadata": {},
   "source": [
    "### Mini Project\n",
    "Project: Number Guessing Game\n",
    "Project Description:\n",
    "The program will randomly select a number between 1 and 100. The player will have a limited number of chances (let’s say 7) to guess the number. After each guess, the program will tell the player whether their guess is too high or too low. If the player guesses correctly within the allowed number of attempts, they win. Otherwise, the game ends and the player loses."
   ]
  }
 ],
 "metadata": {
  "kernelspec": {
   "display_name": "my_venv",
   "language": "python",
   "name": "python3"
  },
  "language_info": {
   "codemirror_mode": {
    "name": "ipython",
    "version": 3
   },
   "file_extension": ".py",
   "mimetype": "text/x-python",
   "name": "python",
   "nbconvert_exporter": "python",
   "pygments_lexer": "ipython3",
   "version": "3.12.6"
  }
 },
 "nbformat": 4,
 "nbformat_minor": 2
}
