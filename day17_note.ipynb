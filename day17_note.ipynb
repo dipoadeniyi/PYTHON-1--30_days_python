{
 "cells": [
  {
   "cell_type": "markdown",
   "metadata": {},
   "source": [
    "### Welcome Day 17 of 30 days python\n",
    "  \n",
    "Data Cleaning with Pandas  \n",
    "- Handling missing data (drop, fillna)\n",
    "- Removing duplicates\n",
    "- Renaming and formatting columns"
   ]
  },
  {
   "cell_type": "code",
   "execution_count": null,
   "metadata": {},
   "outputs": [],
   "source": []
  }
 ],
 "metadata": {
  "language_info": {
   "name": "python"
  }
 },
 "nbformat": 4,
 "nbformat_minor": 2
}
