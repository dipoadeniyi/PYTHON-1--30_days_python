{
 "cells": [
  {
   "cell_type": "markdown",
   "metadata": {},
   "source": [
    "### Exercise of the day\n",
    "\n",
    "1. **Task 1**: Write a function `sum_of_list(lst)` that takes a list of numbers as input and returns the sum of all the elements in the list.\n",
    "\n",
    "2. **Task 2**: Create a function `multiply_list_elements(lst, multiplier)` that multiplies each element in a list by a given multiplier and returns the new list.\n",
    "\n",
    "3. **Task 3**: Define a function `count_words(sentence)` that takes a string (sentence) and returns the number of words in it.\n",
    "\n",
    "4. **Task 4**: Write a function `find_minimum(numbers)` that returns the smallest number in a list of numbers.\n",
    "\n",
    "5. **Task 5**: Create a function `fibonacci(n)` that returns the first `n` numbers in the Fibonacci sequence.\n",
    "\n",
    "6. **Task 6**: Define a function `string_length(str_list)` that takes a list of strings and returns a new list containing the length of each string.\n",
    "\n",
    "7. **Task 7**: Write a function `capitalize_names(names)` that takes a list of names and returns a new list where each name is capitalized.\n",
    "\n",
    "8. **Task 8**: Create a function `remove_duplicates(lst)` that removes any duplicate elements from a list and returns the list with unique elements only.\n",
    "\n",
    "9. **Task 9**: Write a function `prime_check(num)` that checks if a number is a prime number. Return `True` if it is, otherwise `False`.\n",
    "\n",
    "10. **Task 10**: Define a function `calculate_discount(price, discount_percentage)` that calculates and returns the discounted price of an item based on the original price and discount percentage."
   ]
  }
 ],
 "metadata": {
  "language_info": {
   "name": "python"
  }
 },
 "nbformat": 4,
 "nbformat_minor": 2
}
