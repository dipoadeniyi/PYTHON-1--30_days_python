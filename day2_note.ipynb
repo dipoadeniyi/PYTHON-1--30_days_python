{
 "cells": [
  {
   "cell_type": "markdown",
   "metadata": {},
   "source": [
    "### Day 02 of 30 days python series\n",
    "\n",
    "If you have missed day1 -- [Watch Day Video](https://youtu.be/UnvvW_ukiDo)  \n",
    "Day file files and resources [Download Day1 practice files](https://github.com/najirh/30_days_python)"
   ]
  },
  {
   "cell_type": "markdown",
   "metadata": {},
   "source": [
    "** Day 2 Topic**\n",
    "- Variable \n",
    "- Datatypes\n",
    "- Type casting \n",
    "- Operator \n",
    "- Assignment operator\n",
    "- 2 mini project\n"
   ]
  },
  {
   "cell_type": "markdown",
   "metadata": {},
   "source": [
    "## So let's start"
   ]
  },
  {
   "cell_type": "markdown",
   "metadata": {},
   "source": [
    "**Data Types**"
   ]
  },
  {
   "cell_type": "code",
   "execution_count": null,
   "metadata": {},
   "outputs": [],
   "source": [
    "# str 'name', city \n",
    "# int 1, \n",
    "# float 25.5\n",
    "# Boolen"
   ]
  },
  {
   "cell_type": "code",
   "execution_count": 15,
   "metadata": {},
   "outputs": [],
   "source": [
    "items = \"Burger\"\n",
    "price = 25.5\n",
    "qty = 2\n",
    "store_name = 'burger_king'\n",
    "is_hot = False"
   ]
  },
  {
   "cell_type": "code",
   "execution_count": 16,
   "metadata": {},
   "outputs": [
    {
     "data": {
      "text/plain": [
       "bool"
      ]
     },
     "execution_count": 16,
     "metadata": {},
     "output_type": "execute_result"
    }
   ],
   "source": [
    "type(is_hot)"
   ]
  },
  {
   "cell_type": "code",
   "execution_count": 23,
   "metadata": {},
   "outputs": [
    {
     "name": "stdout",
     "output_type": "stream",
     "text": [
      "cust_name data type:<class 'str'> age data types: <class 'int'>\n"
     ]
    }
   ],
   "source": [
    "# Let's create function that \n",
    "\n",
    "cust_name = input(\"May i know your name :\")\n",
    "age = int(input(\"May i know your age :\"))\n",
    "\n",
    "cust_name_type = type(cust_name)\n",
    "age_type = type(age)\n",
    "\n",
    "print(f\"cust_name data type:{cust_name_type} age data types: {age_type}\")"
   ]
  },
  {
   "cell_type": "code",
   "execution_count": 89,
   "metadata": {},
   "outputs": [],
   "source": [
    "# type casting\n",
    "# str(), int(), float(), bool()"
   ]
  },
  {
   "cell_type": "code",
   "execution_count": 102,
   "metadata": {},
   "outputs": [
    {
     "data": {
      "text/plain": [
       "False"
      ]
     },
     "execution_count": 102,
     "metadata": {},
     "output_type": "execute_result"
    }
   ],
   "source": [
    "# age = \"25\"\n",
    "\n",
    "# int(age)\n",
    "\n",
    "# price = 25\n",
    "\n",
    "# type(str(price))\n",
    "\n",
    "price_pizza = 22\n",
    "\n",
    "float(price_pizza)\n",
    "\n",
    "type(float(price_pizza))\n",
    "\n",
    "# bool() -- True or False\n",
    "\n",
    "hw = \"\"\n",
    "\n",
    "bool(hw)\n"
   ]
  },
  {
   "cell_type": "markdown",
   "metadata": {},
   "source": [
    "```python\n",
    "name = \"Alice\"       # String\n",
    "age = 30             # Integer\n",
    "height = 5.8         # Float\n",
    "is_student = True    # Boolean\n",
    "```\n",
    "\n",
    "**Explanation:**\n",
    "- `name` is a string variable storing the name \"Alice\".\n",
    "- `age` is an integer variable storing the value 30.\n",
    "- `height` is a float variable storing the value 5.8.\n",
    "- `is_student` is a boolean variable storing the value `True`.\n",
    "\n",
    "---"
   ]
  },
  {
   "cell_type": "markdown",
   "metadata": {},
   "source": [
    "#### **2. Data Types**"
   ]
  },
  {
   "cell_type": "code",
   "execution_count": 114,
   "metadata": {},
   "outputs": [
    {
     "data": {
      "text/plain": [
       "81"
      ]
     },
     "execution_count": 114,
     "metadata": {},
     "output_type": "execute_result"
    }
   ],
   "source": [
    "x = 3\n",
    "y = 4\n",
    "\n",
    "x ** y\n",
    "\n",
    "3 * 3 * 3 * 3"
   ]
  },
  {
   "cell_type": "markdown",
   "metadata": {},
   "source": [
    "#### **3. Operators**\n",
    "\n",
    "Python supports several types of operators for different operations.\n",
    "\n",
    "**3.1 Arithmetic Operators**\n",
    "\n",
    "These operators perform mathematical operations:\n",
    "\n",
    "- `+` : Addition\n",
    "- `-` : Subtraction\n",
    "- `*` : Multiplication\n",
    "- `/` : Division\n",
    "- `%` : Modulus (remainder)\n",
    "- `//` : Floor Division (integer result of division)\n",
    "- `**` : Exponentiation (power)\n"
   ]
  },
  {
   "cell_type": "markdown",
   "metadata": {},
   "source": []
  },
  {
   "cell_type": "code",
   "execution_count": 123,
   "metadata": {},
   "outputs": [
    {
     "data": {
      "text/plain": [
       "True"
      ]
     },
     "execution_count": 123,
     "metadata": {},
     "output_type": "execute_result"
    }
   ],
   "source": [
    "x = 22\n",
    "\n",
    "y = 20\n",
    "\n",
    "x != y\n"
   ]
  },
  {
   "cell_type": "markdown",
   "metadata": {},
   "source": [
    "**3.2 Comparison Operators**\n",
    "\n",
    "These operators compare two values and return a Boolean (`True` or `False`):\n",
    "\n",
    "- `==` : Equal\n",
    "- `!=` : Not equal\n",
    "- `>` : Greater than\n",
    "- `<` : Less than\n",
    "- `>=` : Greater than or equal to\n",
    "- `<=` : Less than or equal to"
   ]
  },
  {
   "cell_type": "code",
   "execution_count": 141,
   "metadata": {},
   "outputs": [],
   "source": [
    "city = 'delhi'\n",
    "population = 1.2\n",
    "\n",
    "# city == 'delhi' and population == 1.2\n",
    "# city == 'delhi' or population == 1.1"
   ]
  },
  {
   "cell_type": "code",
   "execution_count": 147,
   "metadata": {},
   "outputs": [
    {
     "name": "stdout",
     "output_type": "stream",
     "text": [
      "Dont go out its raining now\n"
     ]
    }
   ],
   "source": [
    "is_raining = False\n",
    "\n",
    "if not is_raining:\n",
    "    print(\"Dont go out its raining now\")\n",
    "else:\n",
    "    print(\"Its not raining\")"
   ]
  },
  {
   "cell_type": "markdown",
   "metadata": {},
   "source": [
    "**3.3 Logical Operators**\n",
    "\n",
    "These operators combine multiple conditions:\n",
    "\n",
    "- `and`: Returns `True` if both statements are true.\n",
    "- `or`: Returns `True` if at least one statement is true.\n",
    "- `not`: Reverses the result (True becomes False, False becomes True)."
   ]
  },
  {
   "cell_type": "markdown",
   "metadata": {},
   "source": [
    "#### Assignment Operator in Python"
   ]
  },
  {
   "cell_type": "code",
   "execution_count": 188,
   "metadata": {},
   "outputs": [
    {
     "data": {
      "text/plain": [
       "36"
      ]
     },
     "execution_count": 188,
     "metadata": {},
     "output_type": "execute_result"
    }
   ],
   "source": [
    "followers = 6\n",
    "# followers = followers + 1\n",
    "# followers += 3\n",
    "\n",
    "# followers = followers - 1\n",
    "# followers -= 1\n",
    "\n",
    "# followers = followers * 2\n",
    "# followers *= 4\n",
    "\n",
    "# followers = followers / 2\n",
    "# followers /= 2\n",
    "\n",
    "# followers = followers// 2\n",
    "# followers //= 2\n",
    "\n",
    "# followers = followers % 2\n",
    "# followers %=2\n",
    "\n",
    "# followers = followers ** 2\n",
    "# followers **=2\n",
    "\n",
    "\n",
    "followers"
   ]
  },
  {
   "cell_type": "code",
   "execution_count": null,
   "metadata": {},
   "outputs": [],
   "source": [
    "# addition calcular mini project 1\n",
    "\n",
    "# Create a simple calculator that takes two numbers from the user and performs \n",
    "# addition and return results."
   ]
  },
  {
   "cell_type": "markdown",
   "metadata": {},
   "source": [
    " Cart mini project -2\n",
    "\n",
    "Create a ecommerce cart that takes which items they wanna buy  \n",
    "Ask for their name  \n",
    "How many qty they wanna buy  \n",
    "At what price they are buying  \n",
    "Show the total cart including $ sign  "
   ]
  }
 ],
 "metadata": {
  "kernelspec": {
   "display_name": "my_venv",
   "language": "python",
   "name": "python3"
  },
  "language_info": {
   "codemirror_mode": {
    "name": "ipython",
    "version": 3
   },
   "file_extension": ".py",
   "mimetype": "text/x-python",
   "name": "python",
   "nbconvert_exporter": "python",
   "pygments_lexer": "ipython3",
   "version": "3.12.6"
  }
 },
 "nbformat": 4,
 "nbformat_minor": 2
}
