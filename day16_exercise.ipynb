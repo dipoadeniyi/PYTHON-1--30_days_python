{
 "cells": [
  {
   "cell_type": "markdown",
   "metadata": {},
   "source": [
    "## 20 Problems to learn Pandas Basics**\n",
    "\n",
    "### Problems for employees dataset\n",
    "\n",
    "1. **Filtering**: Filter the DataFrame to show only employees who work in the \"IT\" department.\n",
    "\n",
    "2. **Filtering**: Filter the DataFrame to show only female employees who are older than 50.\n",
    "\n",
    "3. **Sorting**: Sort the DataFrame by the \"Salary\" column in descending order.\n",
    "\n",
    "4. **Sorting**: Sort the DataFrame first by \"Department\" (ascending) and then by \"Age\" (descending).\n",
    "\n",
    "5. **Indexing**: Set the \"ID\" column as the index of the DataFrame and display the first 5 rows.\n",
    "\n",
    "6. **Indexing**: Select the \"Full Name\" and \"Job Title\" columns for the employee with the ID \"E02011\".\n",
    "\n",
    "7. **Exporting**: Export the DataFrame to a new CSV file named \"employee_data.csv\".\n",
    "\n",
    "8. **Exporting**: Export the DataFrame to an Excel file named \"employee_data.xlsx\".\n",
    "\n",
    "9. **Basics Operation**: Use `df.info` to display information about the DataFrame, including the number of non-null entries in each column.\n",
    "\n",
    "10. **Basics Operation**: Use the `head()` function to display the first 10 rows of the DataFrame and `tail()` to display the last 5 rows."
   ]
  },
  {
   "cell_type": "markdown",
   "metadata": {},
   "source": [
    "### Problems - Walmart excel dataset\n",
    "\n",
    "1. **Filtering**: Filter the DataFrame to show only transactions where the customer type is \"Member\".\n",
    "\n",
    "2. **Filtering**: Filter the DataFrame to show transactions where the total amount is greater than $500.\n",
    "\n",
    "3. **Sorting**: Sort the DataFrame by the \"total\" column in descending order to find the highest transactions.\n",
    "\n",
    "4. **Sorting**: Sort the DataFrame first by \"branch\" (ascending) and then by \"unit_price\" (descending).\n",
    "\n",
    "5. **Indexing**: Set the \"invoice_id\" column as the index of the DataFrame and display the first 5 rows.\n",
    "\n",
    "6. **Indexing**: Select the \"city\" and \"product_line\" columns for transactions where the payment method is \"Ewallet\".\n",
    "\n",
    "7. **Exporting**: Export the DataFrame to a new CSV file named \"invoice_data.csv\".\n",
    "\n",
    "8. **Exporting**: Export the DataFrame to an Excel file named \"invoice_data.xlsx\".\n",
    "\n",
    "9. **Basics Operation**: Use `df.info` to display information about the DataFrame, including the number of non-null entries in each column.\n",
    "\n",
    "10. **Basics Operation**: Use the `head()` function to display the first 10 rows of the DataFrame and `tail()` to display the last 5 rows."
   ]
  }
 ],
 "metadata": {
  "language_info": {
   "name": "python"
  }
 },
 "nbformat": 4,
 "nbformat_minor": 2
}
