{
 "cells": [
  {
   "cell_type": "markdown",
   "metadata": {},
   "source": [
    "### Welcome to day 5 \n",
    "\n",
    "**Dictionary in python**  \n",
    "A dictionary in Python is an unordered, mutable, and indexed collection of key-value pairs. Each key is unique, and it maps to a corresponding value. \n",
    "  \n",
    "Key Characteristics:  \n",
    "- Unordered\n",
    "- Mutable\n",
    "- Key must be unique\n",
    "- Values can be any type"
   ]
  },
  {
   "cell_type": "code",
   "execution_count": 4,
   "metadata": {},
   "outputs": [
    {
     "data": {
      "text/plain": [
       "{'name': 'Zero Analyst',\n",
       " 'subscriber': 12500,\n",
       " 'city': 'Delhi',\n",
       " 'gender': 'Male'}"
      ]
     },
     "execution_count": 4,
     "metadata": {},
     "output_type": "execute_result"
    }
   ],
   "source": [
    "my_dict = {\n",
    "    \"name\" : \"Zero Analyst\",\n",
    "    \"subscriber\": 12500,\n",
    "    \"city\" : \"Delhi\",\n",
    "    \"gender\" : \"Male\"\n",
    "}\n",
    "type(my_dict)\n",
    "my_dict"
   ]
  },
  {
   "cell_type": "code",
   "execution_count": 7,
   "metadata": {},
   "outputs": [
    {
     "data": {
      "text/plain": [
       "'Zero Analyst'"
      ]
     },
     "execution_count": 7,
     "metadata": {},
     "output_type": "execute_result"
    }
   ],
   "source": [
    "my_dict.get(\"name\")"
   ]
  },
  {
   "cell_type": "code",
   "execution_count": 12,
   "metadata": {},
   "outputs": [
    {
     "data": {
      "text/plain": [
       "dict_values(['Zero Analyst', 12500, 'Delhi', 'Male'])"
      ]
     },
     "execution_count": 12,
     "metadata": {},
     "output_type": "execute_result"
    }
   ],
   "source": [
    "# my_dict.keys()\n",
    "# my_dict.values()"
   ]
  },
  {
   "cell_type": "code",
   "execution_count": 14,
   "metadata": {},
   "outputs": [
    {
     "data": {
      "text/plain": [
       "dict_items([('name', 'Zero Analyst'), ('subscriber', 12500), ('city', 'Delhi'), ('gender', 'Male')])"
      ]
     },
     "execution_count": 14,
     "metadata": {},
     "output_type": "execute_result"
    }
   ],
   "source": [
    "my_dict.items()"
   ]
  },
  {
   "cell_type": "code",
   "execution_count": 8,
   "metadata": {},
   "outputs": [
    {
     "data": {
      "text/plain": [
       "'Zero Analyst'"
      ]
     },
     "execution_count": 8,
     "metadata": {},
     "output_type": "execute_result"
    }
   ],
   "source": [
    "my_dict[\"name\"]"
   ]
  },
  {
   "cell_type": "code",
   "execution_count": 29,
   "metadata": {},
   "outputs": [],
   "source": [
    "person ={\n",
    "    \"name\" : \"sam\",\n",
    "    \"age\" : 25,\n",
    "    \"salary\" : 55000,\n",
    "    1 : \"abc\"\n",
    "}"
   ]
  },
  {
   "cell_type": "code",
   "execution_count": 31,
   "metadata": {},
   "outputs": [
    {
     "data": {
      "text/plain": [
       "'abc'"
      ]
     },
     "execution_count": 31,
     "metadata": {},
     "output_type": "execute_result"
    }
   ],
   "source": [
    "person.pop(1)"
   ]
  },
  {
   "cell_type": "code",
   "execution_count": 32,
   "metadata": {},
   "outputs": [
    {
     "data": {
      "text/plain": [
       "{'name': 'sam', 'age': 25, 'salary': 55000}"
      ]
     },
     "execution_count": 32,
     "metadata": {},
     "output_type": "execute_result"
    }
   ],
   "source": [
    "person"
   ]
  },
  {
   "cell_type": "code",
   "execution_count": 33,
   "metadata": {},
   "outputs": [],
   "source": [
    "skills = {\n",
    "    \"data\" : \"sql\",\n",
    "    \"dashboarding\" : \"Tableau\"\n",
    "}"
   ]
  },
  {
   "cell_type": "code",
   "execution_count": 34,
   "metadata": {},
   "outputs": [
    {
     "data": {
      "text/plain": [
       "dict_keys(['data', 'dashboarding'])"
      ]
     },
     "execution_count": 34,
     "metadata": {},
     "output_type": "execute_result"
    }
   ],
   "source": [
    "skills.keys()"
   ]
  },
  {
   "cell_type": "code",
   "execution_count": 35,
   "metadata": {},
   "outputs": [
    {
     "data": {
      "text/plain": [
       "{'data': 'sql', 'dashboarding': 'Tableau', 'cloud': 'AWS'}"
      ]
     },
     "execution_count": 35,
     "metadata": {},
     "output_type": "execute_result"
    }
   ],
   "source": [
    "# adding new elements\n",
    "# cloud = \"AWS\"\n",
    "\n",
    "skills[\"cloud\"] = \"AWS\"\n",
    "skills"
   ]
  },
  {
   "cell_type": "code",
   "execution_count": 36,
   "metadata": {},
   "outputs": [
    {
     "data": {
      "text/plain": [
       "{'data': 'sql', 'dashboarding': 'Tableau', 'cloud': 'GCP'}"
      ]
     },
     "execution_count": 36,
     "metadata": {},
     "output_type": "execute_result"
    }
   ],
   "source": [
    "skills[\"cloud\"] = \"GCP\"\n",
    "skills"
   ]
  },
  {
   "cell_type": "code",
   "execution_count": 21,
   "metadata": {},
   "outputs": [
    {
     "data": {
      "text/plain": [
       "dict_values(['sam', 25, 55000, 'abc'])"
      ]
     },
     "execution_count": 21,
     "metadata": {},
     "output_type": "execute_result"
    }
   ],
   "source": [
    "person.values()"
   ]
  },
  {
   "cell_type": "code",
   "execution_count": 20,
   "metadata": {},
   "outputs": [
    {
     "data": {
      "text/plain": [
       "55000"
      ]
     },
     "execution_count": 20,
     "metadata": {},
     "output_type": "execute_result"
    }
   ],
   "source": [
    "person.get(\"salary\")"
   ]
  },
  {
   "cell_type": "code",
   "execution_count": 16,
   "metadata": {},
   "outputs": [
    {
     "data": {
      "text/plain": [
       "{}"
      ]
     },
     "execution_count": 16,
     "metadata": {},
     "output_type": "execute_result"
    }
   ],
   "source": [
    "my_dict.clear()\n",
    "my_dict"
   ]
  },
  {
   "cell_type": "code",
   "execution_count": 37,
   "metadata": {},
   "outputs": [
    {
     "data": {
      "text/plain": [
       "{'name': 'Ford', 'model': 2021, 'color': 'Black'}"
      ]
     },
     "execution_count": 37,
     "metadata": {},
     "output_type": "execute_result"
    }
   ],
   "source": [
    "dict1 = { \"name\" : \"Ford\"}\n",
    "dict2 = {\"model\" : 2021,\n",
    "         \"color\" : \"Black\"}\n",
    "\n",
    "dict1.update(dict2)\n",
    "\n",
    "dict1"
   ]
  },
  {
   "cell_type": "code",
   "execution_count": 39,
   "metadata": {},
   "outputs": [],
   "source": [
    "# dict with multiple values\n",
    "\n",
    "data_analyst = {\n",
    "    \"skills\" : [\"Excel\", \"AWS\", \"Python\", \"SQL\", \"Tabluea\", \"Power Bi\"],\n",
    "    \"soft_skills\" :  (\"Communication\", \"Presentation\", \"Problem Solving\")\n",
    "}"
   ]
  },
  {
   "cell_type": "code",
   "execution_count": 42,
   "metadata": {},
   "outputs": [
    {
     "data": {
      "text/plain": [
       "'Problem Solving'"
      ]
     },
     "execution_count": 42,
     "metadata": {},
     "output_type": "execute_result"
    }
   ],
   "source": [
    "# data_analyst[\"skills\"][1]\n",
    "data_analyst[\"soft_skills\"][-1]"
   ]
  },
  {
   "cell_type": "markdown",
   "metadata": {},
   "source": [
    "| **Method**       | **Description**                                                                                     |\n",
    "|------------------|-----------------------------------------------------------------------------------------------------|\n",
    "| `dict.get(key)`  | Returns the value for a given key; if the key does not exist, returns a default value (e.g., `None`).|\n",
    "| `dict.keys()`    | Returns a view of all keys in the dictionary.                                                        |\n",
    "| `dict.values()`  | Returns a view of all values in the dictionary.                                                      |\n",
    "| `dict.items()`   | Returns a view of all key-value pairs in the dictionary as tuples.                                   |\n",
    "| `dict.update()`  | Updates the dictionary with elements from another dictionary or iterable of key-value pairs.         |\n",
    "| `dict.clear()`   | Removes all elements from the dictionary.                                                           |\n",
    "| `dict.pop(key)`  | Removes the key-value pair and returns the value; raises a `KeyError` if the key doesn't exist.      |"
   ]
  },
  {
   "cell_type": "code",
   "execution_count": 44,
   "metadata": {},
   "outputs": [],
   "source": [
    "# Nested Dictionary\n",
    "\n",
    "my_dict = {\n",
    "    \"ford\" : {\n",
    "        \"name\" : \"Eco sport\",\n",
    "        \"model\" : 2021,\n",
    "        \"price\" : 250000\n",
    "        },\n",
    "    \"tata\" : {\"name\" : \"safari\",\n",
    "              \"model\" : 2023,\n",
    "              \"price\" : 550000},\n",
    "    \"phone\" : {\n",
    "                \"brand\" : \"apple\",\n",
    "                \"model\" : 16,\n",
    "                \"price\" : 999\n",
    "               }\n",
    "    }"
   ]
  },
  {
   "cell_type": "code",
   "execution_count": 57,
   "metadata": {},
   "outputs": [
    {
     "data": {
      "text/plain": [
       "{'ford': {'name': 'Eco sport', 'model': 2021, 'price': 250000},\n",
       " 'tata': {'name': 'safari', 'model': 2023, 'price': 550000},\n",
       " 'phone': {'brand': 'Samsung', 'model': 16, 'price': 999}}"
      ]
     },
     "execution_count": 57,
     "metadata": {},
     "output_type": "execute_result"
    }
   ],
   "source": [
    "my_dict[\"phone\"][\"brand\"] = \"Samsung\"\n",
    "my_dict"
   ]
  },
  {
   "cell_type": "code",
   "execution_count": 60,
   "metadata": {},
   "outputs": [],
   "source": [
    "my_dict[\"phone\"][\"price\"] = 1299"
   ]
  },
  {
   "cell_type": "code",
   "execution_count": 61,
   "metadata": {},
   "outputs": [
    {
     "data": {
      "text/plain": [
       "{'ford': {'name': 'Eco sport', 'model': 2021, 'price': 250000},\n",
       " 'tata': {'name': 'safari', 'model': 2023, 'price': 550000},\n",
       " 'phone': {'brand': 'Samsung', 'model': 16, 'price': 1299}}"
      ]
     },
     "execution_count": 61,
     "metadata": {},
     "output_type": "execute_result"
    }
   ],
   "source": [
    "my_dict"
   ]
  },
  {
   "cell_type": "code",
   "execution_count": 59,
   "metadata": {},
   "outputs": [
    {
     "data": {
      "text/plain": [
       "{'ford': {'name': 'Eco sport', 'model': 2021, 'price': 250000},\n",
       " 'tata': {'name': 'safari', 'model': 2023, 'price': 550000},\n",
       " 'phone': {'brand': 'Samsung', 'model': 16}}"
      ]
     },
     "execution_count": 59,
     "metadata": {},
     "output_type": "execute_result"
    }
   ],
   "source": [
    "# del\n",
    "del my_dict[\"phone\"][\"price\"]\n",
    "my_dict"
   ]
  },
  {
   "cell_type": "markdown",
   "metadata": {},
   "source": [
    "### Mini Project"
   ]
  },
  {
   "cell_type": "markdown",
   "metadata": {},
   "source": [
    "Project: eCommerce Product Lookup System (No Loops)\n",
    "Scenario:\n",
    "You are managing an eCommerce store with three products in different categories. Each product has attributes like Product ID, Name, Price, and Stock. The project focuses on dictionary manipulation and string operations to retrieve and modify product data."
   ]
  },
  {
   "cell_type": "code",
   "execution_count": 77,
   "metadata": {},
   "outputs": [],
   "source": [
    "# Dictionary for product information\n",
    "ecommerce_store = {\n",
    "    \"Electronics\": {\n",
    "        101: {\"name\": \"Smartphone\", \"price\": 699.99, \"stock\": 50},\n",
    "        102: {\"name\": \"Laptop\", \"price\": 999.99, \"stock\": 30}\n",
    "    },\n",
    "    \"Clothing\": {\n",
    "        201: {\"name\": \"T-shirt\", \"price\": 19.99, \"stock\": 200},\n",
    "        202: {\"name\": \"Jeans\", \"price\": 39.99, \"stock\": 150}\n",
    "    }\n",
    "}\n",
    "\n",
    "# List of available categories\n",
    "categories = [\"Electronics\", \"Clothing\"]\n",
    "\n",
    "# Tuple containing product details for a new item to be added\n",
    "new_product = (301, \"Book\", 12.99, 500)"
   ]
  },
  {
   "cell_type": "markdown",
   "metadata": {},
   "source": [
    "Tasks:\n",
    "Access a specific product by category and ID:\n",
    "Manually access the Laptop in the Electronics category.\n",
    "\n",
    "Add a new product to the store:\n",
    "Use the new_product tuple to add the Book to the Clothing category.\n",
    "\n",
    "Convert a product name to uppercase:\n",
    "Change the name of the T-shirt product to uppercase using string functions.\n",
    "\n",
    "Check if a product exists in the store:\n",
    "Use the get() method to check if Smartphone exists in the Electronics category."
   ]
  },
  {
   "cell_type": "code",
   "execution_count": 65,
   "metadata": {},
   "outputs": [
    {
     "data": {
      "text/plain": [
       "{101: {'name': 'Smartphone', 'price': 699.99, 'stock': 50},\n",
       " 102: {'name': 'Laptop', 'price': 999.99, 'stock': 30},\n",
       " 301: {'name': 'Book', 'price': 12.99, 'stock': 500},\n",
       " '401': {'name': 'iphone', 'price': '999', 'stock': '25'},\n",
       " '301': {'name': 'iPhone', 'price': '28', 'stock': '25'}}"
      ]
     },
     "execution_count": 65,
     "metadata": {},
     "output_type": "execute_result"
    }
   ],
   "source": [
    "ecommerce_store['Electronics']"
   ]
  },
  {
   "cell_type": "markdown",
   "metadata": {},
   "source": [
    "take input from users product_id, product_name, price, stock\n",
    "if the product id is availble update the stock if its not available add the product."
   ]
  },
  {
   "cell_type": "code",
   "execution_count": 71,
   "metadata": {},
   "outputs": [],
   "source": [
    "# Dictionary for product information\n",
    "ecommerce_store = {\n",
    "    \"Electronics\": {\n",
    "        101: {\"name\": \"Smartphone\", \"price\": 699.99, \"stock\": 50},\n",
    "        102: {\"name\": \"Laptop\", \"price\": 999.99, \"stock\": 30}\n",
    "    },\n",
    "    \"Clothing\": {\n",
    "        201: {\"name\": \"T-shirt\", \"price\": 19.99, \"stock\": 200},\n",
    "        202: {\"name\": \"Jeans\", \"price\": 39.99, \"stock\": 150}\n",
    "    }\n",
    "}\n",
    "\n",
    "# List of available categories\n",
    "categories = [\"Electronics\", \"Clothing\"]\n",
    "\n",
    "# Tuple containing product details for a new item to be added\n",
    "# new_product = (301, \"Book\", 12.99, 500)"
   ]
  }
 ],
 "metadata": {
  "kernelspec": {
   "display_name": "my_venv",
   "language": "python",
   "name": "python3"
  },
  "language_info": {
   "codemirror_mode": {
    "name": "ipython",
    "version": 3
   },
   "file_extension": ".py",
   "mimetype": "text/x-python",
   "name": "python",
   "nbconvert_exporter": "python",
   "pygments_lexer": "ipython3",
   "version": "3.12.6"
  }
 },
 "nbformat": 4,
 "nbformat_minor": 2
}
