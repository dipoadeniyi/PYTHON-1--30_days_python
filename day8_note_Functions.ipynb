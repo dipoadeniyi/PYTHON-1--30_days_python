{
 "cells": [
  {
   "cell_type": "markdown",
   "metadata": {},
   "source": [
    "### Welcome to day 08 of 30 days python series\n",
    "\n",
    "- Defining Functions (def, return)\n",
    "- Parameters and Arguments:\n",
    "- Default and Keyword Arguments:\n",
    "- Mini Project"
   ]
  },
  {
   "cell_type": "markdown",
   "metadata": {},
   "source": [
    "A function in Python is a named block of code that performs a specific task and can return a result. \n",
    "It is defined using the def keyword, and it allows you to reuse code by calling the function whenever needed."
   ]
  },
  {
   "cell_type": "code",
   "execution_count": 54,
   "metadata": {},
   "outputs": [],
   "source": [
    "def function_name():\n",
    "    print(\"the sum of 1+2 is below\")\n",
    "    return 1 + 2"
   ]
  },
  {
   "cell_type": "code",
   "execution_count": 55,
   "metadata": {},
   "outputs": [
    {
     "name": "stdout",
     "output_type": "stream",
     "text": [
      "the sum of 1+2 is below\n"
     ]
    },
    {
     "data": {
      "text/plain": [
       "3"
      ]
     },
     "execution_count": 55,
     "metadata": {},
     "output_type": "execute_result"
    }
   ],
   "source": [
    "function_name()"
   ]
  },
  {
   "cell_type": "code",
   "execution_count": 56,
   "metadata": {},
   "outputs": [],
   "source": [
    "def greet():\n",
    "    result = print(\"Hello World\")\n",
    "    return result"
   ]
  },
  {
   "cell_type": "code",
   "execution_count": 59,
   "metadata": {},
   "outputs": [],
   "source": [
    "# Take name from user and greet as Hello welcome to Zero Analyst\n",
    "\n",
    "def gree_za(name):\n",
    "    return print(f\"Hello {name} \\nWelcome to Zero Analyst\")\n",
    "    "
   ]
  },
  {
   "cell_type": "code",
   "execution_count": 62,
   "metadata": {},
   "outputs": [
    {
     "name": "stdout",
     "output_type": "stream",
     "text": [
      "Hello 1123 \n",
      "Welcome to Zero Analyst\n"
     ]
    }
   ],
   "source": [
    "# calling function\n",
    "gree_za(1123)"
   ]
  },
  {
   "cell_type": "markdown",
   "metadata": {},
   "source": [
    "Basic Function Definition\n",
    "Write a function greet() that prints \"Hello, World!\" and call this function."
   ]
  },
  {
   "cell_type": "markdown",
   "metadata": {},
   "source": [
    "Function with Parameters\n",
    "Create a function add_numbers(a, b) that takes two numbers as input and returns their sum."
   ]
  },
  {
   "cell_type": "code",
   "execution_count": 65,
   "metadata": {},
   "outputs": [],
   "source": [
    "def add_numbers(num1, num2):\n",
    "    result = num1 + num2\n",
    "    return print(f\"Your sum for {num1} + {num2} = {result}\")"
   ]
  },
  {
   "cell_type": "code",
   "execution_count": 69,
   "metadata": {},
   "outputs": [
    {
     "name": "stdout",
     "output_type": "stream",
     "text": [
      "Your sum for 6 + 255 = 261\n"
     ]
    }
   ],
   "source": [
    "# calling fnuction\n",
    "add_numbers(6, 255)"
   ]
  },
  {
   "cell_type": "markdown",
   "metadata": {},
   "source": [
    "Write a function that takes multiple numbers and return their multiplication"
   ]
  },
  {
   "cell_type": "code",
   "execution_count": null,
   "metadata": {},
   "outputs": [],
   "source": [
    "[1, 2, 3]\n",
    "1 * 2 * 3"
   ]
  },
  {
   "cell_type": "code",
   "execution_count": 85,
   "metadata": {},
   "outputs": [],
   "source": [
    "# *args\n",
    "\n",
    "def multiplication_fun(*args):\n",
    "    \n",
    "    # variable with 1\n",
    "    mul = 1\n",
    "    for i in args:\n",
    "        mul *= i\n",
    "        \n",
    "    return mul"
   ]
  },
  {
   "cell_type": "markdown",
   "metadata": {},
   "source": [
    "Function Returning Multiple Values\n",
    "Define a function calculate_stats(numbers) that returns the sum, average, and maximum of a list of numbers."
   ]
  },
  {
   "cell_type": "code",
   "execution_count": 108,
   "metadata": {},
   "outputs": [
    {
     "data": {
      "text/plain": [
       "4"
      ]
     },
     "execution_count": 108,
     "metadata": {},
     "output_type": "execute_result"
    }
   ],
   "source": [
    "max([1,4,2,3])"
   ]
  },
  {
   "cell_type": "code",
   "execution_count": 109,
   "metadata": {},
   "outputs": [],
   "source": [
    "# its numbers = [1, 2, 3, 4]\n",
    "\n",
    "def calculate_stats(numbers):\n",
    "    \n",
    "    # checking sum\n",
    "    total_sum = sum(numbers)\n",
    "    \n",
    "    # checking sum\n",
    "    average = sum(numbers)/len(numbers)\n",
    "    \n",
    "    maximum = max(numbers)\n",
    "    \n",
    "    return total_sum, average, maximum\n"
   ]
  },
  {
   "cell_type": "code",
   "execution_count": 111,
   "metadata": {},
   "outputs": [
    {
     "name": "stdout",
     "output_type": "stream",
     "text": [
      "Sum = 19\n",
      "Average: 4.75\n",
      "Max numbers 7\n"
     ]
    }
   ],
   "source": [
    "# calling the function\n",
    "numbers = [3, 4, 5, 7]\n",
    "\n",
    "total_sum, average, maximum = calculate_stats(numbers)\n",
    "\n",
    "print(f\"Sum = {total_sum}\")\n",
    "print(f\"Average: {average}\")\n",
    "print(f\"Max numbers {maximum}\")\n",
    "\n",
    "\n"
   ]
  },
  {
   "cell_type": "markdown",
   "metadata": {},
   "source": [
    "Write Function that takes name and return greetings based on the time"
   ]
  },
  {
   "cell_type": "code",
   "execution_count": 119,
   "metadata": {},
   "outputs": [
    {
     "data": {
      "text/plain": [
       "19"
      ]
     },
     "execution_count": 119,
     "metadata": {},
     "output_type": "execute_result"
    }
   ],
   "source": [
    "from datetime import datetime\n",
    "current_time = datetime.now().time()\n",
    "current_time.hour"
   ]
  },
  {
   "cell_type": "code",
   "execution_count": 124,
   "metadata": {},
   "outputs": [],
   "source": [
    "def greet_time_based(name):\n",
    "    from datetime import datetime\n",
    "    current_time = datetime.now().time()\n",
    "    hour = current_time.hour\n",
    "    \n",
    "    if hour < 12 and hour >=6:\n",
    "        greetings = \"Good Morning\"\n",
    "        \n",
    "    elif hour >= 12 and hour < 18:\n",
    "        greetings = \"Good Afternoon\"\n",
    "        \n",
    "    elif hour >= 18 and hour < 20:\n",
    "        greetings = \"Good Evening\"\n",
    "    else:\n",
    "        greetings = \"Good Night\"\n",
    "        \n",
    "    return print(f\"{greetings} {name}\")"
   ]
  },
  {
   "cell_type": "code",
   "execution_count": 125,
   "metadata": {},
   "outputs": [
    {
     "name": "stdout",
     "output_type": "stream",
     "text": [
      "Good Evening Sam\n"
     ]
    }
   ],
   "source": [
    "greet_time_based(\"Sam\")"
   ]
  },
  {
   "cell_type": "markdown",
   "metadata": {},
   "source": [
    "Mini Projects:\n",
    "Project 1: Simple Calculator\n",
    "Create a function-based calculator that can perform basic operations like addition, subtraction, multiplication, and division. The user will enter two numbers and the operation (as a string, e.g., 'add', 'multiply'). Based on the input, call different functions to perform the operation and return the result."
   ]
  },
  {
   "cell_type": "code",
   "execution_count": null,
   "metadata": {},
   "outputs": [],
   "source": []
  }
 ],
 "metadata": {
  "kernelspec": {
   "display_name": "my_venv",
   "language": "python",
   "name": "python3"
  },
  "language_info": {
   "codemirror_mode": {
    "name": "ipython",
    "version": 3
   },
   "file_extension": ".py",
   "mimetype": "text/x-python",
   "name": "python",
   "nbconvert_exporter": "python",
   "pygments_lexer": "ipython3",
   "version": "3.12.6"
  }
 },
 "nbformat": 4,
 "nbformat_minor": 2
}
