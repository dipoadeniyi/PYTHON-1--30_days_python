{
 "cells": [
  {
   "cell_type": "markdown",
   "metadata": {},
   "source": [
    "---\n",
    "\n",
    "### 1. **Print Numbers 1 to 10 (For Loop)**\n",
    "Write a program that prints numbers from 1 to 10 using a `for` loop.\n",
    "\n",
    "---\n",
    "\n",
    "### 2. **Print Numbers 1 to 10 (While Loop)**\n",
    "Write a program that prints numbers from 1 to 10 using a `while` loop.\n",
    "\n",
    "---\n",
    "\n",
    "### 3. **Sum of First 10 Natural Numbers (For Loop)**\n",
    "Write a program to calculate the sum of the first 10 natural numbers using a `for` loop.\n",
    "\n",
    "---\n",
    "\n",
    "### 4. **Sum of First 10 Natural Numbers (While Loop)**\n",
    "Write a program to calculate the sum of the first 10 natural numbers using a `while` loop.\n",
    "\n",
    "---\n",
    "\n",
    "### 5. **Print Even Numbers Between 1 and 20 (For Loop)**\n",
    "Write a program that prints all even numbers between 1 and 20 using a `for` loop.\n",
    "\n",
    "---\n",
    "\n",
    "### 6. **Print Odd Numbers Between 1 and 20 (While Loop)**\n",
    "Write a program that prints all odd numbers between 1 and 20 using a `while` loop.\n",
    "\n",
    "---\n",
    "\n",
    "### 7. **Print Each Character of a String (For Loop)**\n",
    "Write a program that takes a string as input and prints each character on a new line using a `for` loop.\n",
    "\n",
    "---\n",
    "\n",
    "### 8. **Multiplication Table (For Loop)**\n",
    "Write a program that prints the multiplication table of a number entered by the user using a `for` loop.\n",
    "\n",
    "---\n",
    "\n",
    "### 9. **Guess the Secret Number (While Loop)**\n",
    "Write a guessing game where the user has to guess a secret number between 1 and 10 using a `while` loop. The program should keep asking until they guess correctly.\n",
    "\n",
    "---\n",
    "\n",
    "### 10. **Count Down from 10 to 1 (While Loop)**\n",
    "Write a program that counts down from 10 to 1 using a `while` loop.\n",
    "\n",
    "---"
   ]
  }
 ],
 "metadata": {
  "kernelspec": {
   "display_name": "my_venv",
   "language": "python",
   "name": "python3"
  },
  "language_info": {
   "codemirror_mode": {
    "name": "ipython",
    "version": 3
   },
   "file_extension": ".py",
   "mimetype": "text/x-python",
   "name": "python",
   "nbconvert_exporter": "python",
   "pygments_lexer": "ipython3",
   "version": "3.12.6"
  }
 },
 "nbformat": 4,
 "nbformat_minor": 2
}
