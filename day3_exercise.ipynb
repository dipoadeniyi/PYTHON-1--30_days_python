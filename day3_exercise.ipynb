{
 "cells": [
  {
   "cell_type": "markdown",
   "metadata": {},
   "source": [
    "### Exercises Day3:\n",
    "\n",
    "1. **First Three Letters of a Name**  \n",
    "   - Take a user's full name as input, and print the first three letters of their first name and the first three letters of their last name.\n",
    "\n",
    "2. **Reverse a Word**  \n",
    "   - Take a word as input and print the reversed word using slicing.\n",
    "\n",
    "3. **Extract the Middle Character**  \n",
    "   - Take an odd-length string as input and print the middle character using slicing.\n",
    "\n",
    "4. **Count Characters (Excluding Spaces)**  \n",
    "   - Take a sentence as input and count the number of characters, excluding spaces.\n",
    "\n",
    "5. **Modify User Input**  \n",
    "   - Ask the user for their favorite color and output the color in lowercase, uppercase, and with spaces removed.\n",
    "\n",
    "6. **Username Generator**  \n",
    "   - Take the user's full name and generate a username using the first three letters of the first name and the last three letters of the last name.\n",
    "\n",
    "7. **Strip Leading and Trailing Spaces**  \n",
    "   - Take a string with extra spaces and remove all the leading and trailing spaces using `strip()`.\n",
    "\n",
    "8. **Uppercase Initials**  \n",
    "   - Take a full name as input and print the initials in uppercase.\n",
    "\n",
    "9. **Check if a Word is a Palindrome**  \n",
    "   - Take a word as input and check whether it is a palindrome.\n",
    "\n",
    "10. **Find the Last Three Characters**  \n",
    "    - Take a word as input and print the last three characters using slicing.\n",
    "\n",
    "---\n",
    "\n",
    "### Mini Project: **Password Strength Checker**\n",
    "\n",
    "**Goal**:  \n",
    "Create a program that takes a user's input for a password and checks its strength based on the following criteria:\n",
    "- At least 8 characters long.\n",
    "- Contains both uppercase and lowercase letters.\n",
    "- Includes at least one numeric digit.\n",
    "- Contains at least one special character (e.g., `!`, `@`, `#`, etc.).\n",
    "\n",
    "**Steps**:\n",
    "1. Take the password as input from the user.\n",
    "2. Use string methods like `.lower()`, `.isupper()`, `.isdigit()`, and slicing to validate the password.\n",
    "3. Print whether the password is weak, medium, or strong based on how many criteria it satisfies."
   ]
  },
  {
   "cell_type": "markdown",
   "metadata": {},
   "source": []
  }
 ],
 "metadata": {
  "language_info": {
   "name": "python"
  }
 },
 "nbformat": 4,
 "nbformat_minor": 2
}
