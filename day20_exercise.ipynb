{
 "cells": [
  {
   "cell_type": "markdown",
   "metadata": {},
   "source": [
    "### Excercise Day 20 \n",
    "-- Group BY & Agg,   \n",
    "-- Merge(same as SQL JOIN),   \n",
    "-- Concat same as union in sql  "
   ]
  },
  {
   "cell_type": "code",
   "execution_count": null,
   "metadata": {},
   "outputs": [],
   "source": [
    "#run this\n",
    "import pandas as pd\n",
    "\n",
    "# Cars Dataset\n",
    "cars_data = {\n",
    "    'car_id': [1, 2, 3, 4, 5, 6],\n",
    "    'brand': ['Toyota', 'Honda', 'Ford', 'Tesla', 'Chevrolet', 'BMW'],\n",
    "    'model': ['Corolla', 'Civic', 'Mustang', 'Model 3', 'Silverado', 'X5'],\n",
    "    'year': [2019, 2018, 2020, 2021, 2019, 2020],\n",
    "    'price': [20000, 22000, 30000, 45000, 35000, 60000]\n",
    "}\n",
    "\n",
    "cars_df = pd.DataFrame(cars_data)\n",
    "\n",
    "# Employees Dataset\n",
    "employees_data = {\n",
    "    'employee_id': [101, 102, 103, 104, 105, 106],\n",
    "    'name': ['Alice Smith', 'Bob Johnson', 'Carol White', 'David Brown', 'Emma Davis', 'Frank Wilson'],\n",
    "    'branch': ['A', 'B', 'A', 'C', 'B', 'C'],\n",
    "    'city': ['San Francisco', 'Los Angeles', 'San Francisco', 'New York', 'Los Angeles', 'New York']\n",
    "}\n",
    "\n",
    "employees_df = pd.DataFrame(employees_data)\n",
    "\n",
    "# Display DataFrames\n",
    "print(cars_df)\n",
    "print(employees_df)"
   ]
  },
  {
   "cell_type": "markdown",
   "metadata": {},
   "source": [
    "### Pandas Group By - Walmart Sales (5 Exercises):\n",
    "1. Group the data by `branch` and calculate the total `quantity` sold in each branch.\n",
    "2. Group the data by `city` and find the average `unit_price` of products in each city.\n",
    "3. Group the data by `product_line` and calculate the total `sales` (sum of `total` column) for each product line.\n",
    "4. Group the data by `payment_method` and find the average `rating` for each payment method.\n",
    "5. Group the data by `customer_type` and calculate the total `sales` (sum of `total`) for `Member` and `Normal` customers.\n",
    "\n",
    "### Pandas Merge, Concat, and Join - 10 Exercises:\n",
    "\n",
    "For these exercises, you can create three simple datasets: **cars**, **sales**, and **employees**. Here's a brief description:\n",
    "- **Cars dataset**: Contains columns like `car_id`, `brand`, `model`, `price`.\n",
    "- **Sales dataset**: Contains columns like `sale_id`, `car_id`, `date`, `quantity_sold`.\n",
    "- **Employees dataset**: Contains columns like `employee_id`, `name`, `branch`, `city`.\n",
    "\n",
    "#### Merge Exercises:\n",
    "1. Merge the `sales` dataset with the `cars` dataset on `car_id` to find the details of each car sale.\n",
    "2. Merge the `employees` dataset with the `sales` dataset on `branch` to find which employees belong to branches where cars were sold.\n",
    "3. Perform an outer merge between `cars` and `sales` datasets to show all cars, even those that weren't sold.\n",
    "4. Merge the `cars` and `sales` datasets to calculate total revenue (price * quantity_sold) for each car sale.\n",
    "\n",
    "#### Concat Exercises:\n",
    "5. Concatenate two separate `cars` datasets (say, `cars_2019` and `cars_2020`) into a single DataFrame showing all cars.\n",
    "6. Concatenate two employee lists (one for `branch A`, another for `branch B`) and maintain their respective `branch` information.\n",
    "7. Concatenate two sales reports for different months and keep track of which month the sales happened.\n",
    "\n",
    "#### Join Exercises:\n",
    "8. Perform a left join between the `cars` and `sales` datasets to show all cars and their corresponding sales (if any).\n",
    "9. Perform an inner join between `employees` and `sales` to show which employees handled sales in specific branches.\n",
    "10. Perform a right join between the `sales` and `cars` datasets to find all the sales data and match it with the cars sold."
   ]
  },
  {
   "cell_type": "code",
   "execution_count": null,
   "metadata": {},
   "outputs": [],
   "source": []
  }
 ],
 "metadata": {
  "kernelspec": {
   "display_name": "my_venv",
   "language": "python",
   "name": "python3"
  },
  "language_info": {
   "name": "python",
   "version": "3.12.6"
  }
 },
 "nbformat": 4,
 "nbformat_minor": 2
}
