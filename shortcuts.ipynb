{
 "cells": [
  {
   "cell_type": "markdown",
   "metadata": {},
   "source": [
    "Here are the most commonly used shortcuts for **Jupyter Notebook** on both **Mac** and **Windows** and **VS Code**:\n",
    "\n",
    "---\n",
    "\n",
    "### **Jupyter Notebook Shortcuts** (Mac and Windows)\n",
    "\n",
    "| Action                       | Mac Shortcut         | Windows Shortcut      |\n",
    "|-------------------------------|----------------------|-----------------------|\n",
    "| **Run a cell**                | `Shift + Enter`      | `Shift + Enter`       |\n",
    "| **Insert a new cell below**    | `B`                 | `B`                   |\n",
    "| **Insert a new cell above**    | `A`                 | `A`                   |\n",
    "| **Delete a cell**              | `D + D`             | `D + D`               |\n",
    "| **Change to code cell**        | `Y`                 | `Y`                   |\n",
    "| **Change to markdown cell**    | `M`                 | `M`                   |\n",
    "| **Save notebook**              | `Cmd + S`           | `Ctrl + S`            |\n",
    "| **Undo cell deletion**         | `Z`                 | `Z`                   |\n",
    "| **Toggle line numbers**        | `L`                 | `L`                   |\n",
    "| **Cut selected cells**         | `X`                 | `X`                   |\n",
    "\n",
    "These shortcuts work in command mode (i.e., when no cell is being edited).\n",
    "\n",
    "---\n",
    "\n",
    "### **VS Code Shortcuts**\n",
    "\n",
    "| Action                                  | Mac Shortcut             | Windows Shortcut         |\n",
    "|------------------------------------------|--------------------------|--------------------------|\n",
    "| **Open command palette**                 | `Cmd + Shift + P`         | `Ctrl + Shift + P`        |\n",
    "| **Toggle terminal**                      | `Ctrl + `` (backtick)`    | `Ctrl + `` (backtick)`    |\n",
    "| **Format code**                          | `Shift + Option + F`      | `Shift + Alt + F`         |\n",
    "| **Comment/uncomment line**               | `Cmd + /`                 | `Ctrl + /`                |\n",
    "| **Find in file**                         | `Cmd + F`                 | `Ctrl + F`                |\n",
    "| **Quick file navigation (Go to file)**   | `Cmd + P`                 | `Ctrl + P`                |\n",
    "| **Switch between tabs**                  | `Cmd + Option + Left/Right Arrow` | `Ctrl + Tab`         |\n",
    "| **Move line up/down**                    | `Option + Up/Down Arrow`  | `Alt + Up/Down Arrow`     |\n",
    "| **Copy line up/down**                    | `Shift + Option + Up/Down Arrow` | `Shift + Alt + Up/Down Arrow` |\n",
    "| **Multi-cursor editing**                 | `Cmd + Option + Click`    | `Ctrl + Alt + Click`      |\n",
    "\n",
    "These shortcuts are highly useful for editing code quickly in **VS Code**."
   ]
  },
  {
   "cell_type": "code",
   "execution_count": null,
   "metadata": {},
   "outputs": [],
   "source": []
  }
 ],
 "metadata": {
  "language_info": {
   "name": "python"
  }
 },
 "nbformat": 4,
 "nbformat_minor": 2
}
