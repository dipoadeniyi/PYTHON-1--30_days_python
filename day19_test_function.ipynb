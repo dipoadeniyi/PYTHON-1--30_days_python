{
 "cells": [
  {
   "cell_type": "markdown",
   "metadata": {},
   "source": [
    "### Welcome day 19 of 30 days python\n",
    "\n",
    "## Python Automation Project -- Data Cleaning app\n",
    "\n",
    "**Requirements**\n",
    "Please create a python application that can take datasets and clean the data\n",
    "- It should ask for datasets path and name\n",
    "- it should check number of duplicats and remove all the duplicates \n",
    "- it should keep a copy of all the duplicates\n",
    "- it should check for missing values \n",
    "- if any column that is numeric it should replace nulls with mean else it should drop that rows\n",
    "- at end it should save the data as clean data and also return \n",
    "- duplicates records, clean_data "
   ]
  },
  {
   "cell_type": "code",
   "execution_count": null,
   "metadata": {},
   "outputs": [],
   "source": []
  }
 ],
 "metadata": {
  "kernelspec": {
   "display_name": "my_venv",
   "language": "python",
   "name": "python3"
  },
  "language_info": {
   "codemirror_mode": {
    "name": "ipython",
    "version": 3
   },
   "file_extension": ".py",
   "mimetype": "text/x-python",
   "name": "python",
   "nbconvert_exporter": "python",
   "pygments_lexer": "ipython3",
   "version": "3.12.6"
  }
 },
 "nbformat": 4,
 "nbformat_minor": 2
}
