{
 "cells": [
  {
   "cell_type": "markdown",
   "metadata": {},
   "source": [
    "### Welcome to Day 14 of 30 Days Python Series\n",
    "**OOP - Object Oriented Programming**\n",
    "\n",
    "- **`class`**: A blueprint for creating objects, defining their attributes and methods.\n",
    "- **`object`**: An instance of a class.\n",
    "- **`self`**: Refers to the current instance, allowing access to its attributes and methods.\n",
    "- **`__init__()`**: A constructor method called when a new object is created, initializing its "
   ]
  },
  {
   "cell_type": "code",
   "execution_count": 36,
   "metadata": {},
   "outputs": [
    {
     "name": "stdout",
     "output_type": "stream",
     "text": [
      "45000\n"
     ]
    }
   ],
   "source": [
    "class Person:\n",
    "    def __init__(self, name, age, salary):\n",
    "        self.name = name\n",
    "        self.age= age\n",
    "        self.salary = salary\n",
    "        \n",
    "        # return print(f\"Emp_name {self.name} Age{self.age} and salary {self.salary}\")\n",
    "    \n",
    "# object or instances\n",
    "e1 = Person('sam', 25, 25000)\n",
    "e2 = Person('rahul', 21, 45000)\n",
    "e3 = Person('priya', 31, 31000)\n",
    "        \n",
    "print(e2.salary)"
   ]
  },
  {
   "cell_type": "code",
   "execution_count": 40,
   "metadata": {},
   "outputs": [
    {
     "name": "stdout",
     "output_type": "stream",
     "text": [
      "2022 Ford Blue\n"
     ]
    }
   ],
   "source": [
    "class Car:\n",
    "    def __init__(self, brand, model, color, make):\n",
    "        self.brand = brand\n",
    "        self.model = model\n",
    "        self.color = color\n",
    "        self.make = make\n",
    "        \n",
    "        \n",
    "# object\n",
    "c1 = Car('Ford', 'Eco Sport', 'Blue', 2022)\n",
    "c2 = Car('BMW', 'X1', 'dark black', 2023)\n",
    "\n",
    "\n",
    "print(c1.make, c1.brand, c1.color)\n"
   ]
  },
  {
   "cell_type": "markdown",
   "metadata": {},
   "source": [
    "### Mini Project: Banking Application\n",
    "\n",
    "**Task**: Create a banking application class called `Account` that has the following features:\n",
    "\n",
    "- **Properties**:\n",
    "  - `account_no`: The unique account number.\n",
    "  - `balance`: The current balance of the account.\n",
    "\n",
    "- **Methods**:\n",
    "  1. **`debit(amount)`**: Deducts the specified amount from the balance and prints a message indicating the transaction and the new balance. If the debit amount exceeds the balance, it should print an insufficient funds message.\n",
    "  2. **`credit(amount)`**: Adds the specified amount to the balance and prints a message indicating the transaction and the new balance.\n",
    "  3. **`get_balance()`**: Returns the current balance and optionally prints a message showing the balance.\n",
    "\n",
    "--- "
   ]
  }
 ],
 "metadata": {
  "kernelspec": {
   "display_name": "my_venv",
   "language": "python",
   "name": "python3"
  },
  "language_info": {
   "codemirror_mode": {
    "name": "ipython",
    "version": 3
   },
   "file_extension": ".py",
   "mimetype": "text/x-python",
   "name": "python",
   "nbconvert_exporter": "python",
   "pygments_lexer": "ipython3",
   "version": "3.12.6"
  }
 },
 "nbformat": 4,
 "nbformat_minor": 2
}
