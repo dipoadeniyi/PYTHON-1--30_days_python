{
 "cells": [
  {
   "cell_type": "markdown",
   "metadata": {},
   "source": [
    "### Practice Exercises\n",
    "\n",
    "#### 1. **Handling Division Errors**  \n",
    "Write a function that takes two numbers as input and divides them. Handle both `ZeroDivisionError` and `ValueError` if invalid inputs are provided.\n",
    "\n",
    "#### 2. **Opening a File Safely**  \n",
    "Write a program to open and read a file. Use `try`, `except`, and `finally` blocks to handle exceptions if the file does not exist, and make sure the file is closed properly.\n",
    "\n",
    "#### 3. **Creating a Custom Exception**  \n",
    "Create a custom exception called `OutOfRangeError`. Write a function that takes a number as input and raises this exception if the number is not between 1 and 100.\n",
    "\n",
    "#### 4. **Multiple Exceptions**  \n",
    "Write a program that takes a number input and performs division by that number. Handle both `ZeroDivisionError` and `ValueError` and print custom messages for both.\n",
    "\n",
    "#### 5. **Input Validation**  \n",
    "Write a function that asks the user to enter their age. Raise a `ValueError` if the age is not between 1 and 120. Use `try-except` to handle the error gracefully.\n",
    "\n",
    "#### 6. **Custom Exception in a Game**  \n",
    "Create a custom exception called `GameOverError`. Write a game simulation function that raises this exception when the player runs out of lives.\n",
    "\n",
    "#### 7. **File Operations**  \n",
    "Write a program to open a file, read its content, and print it. Handle `FileNotFoundError` and ensure the file is always closed using `finally`.\n",
    "\n",
    "#### 8. **User-Defined Exception for Voting**  \n",
    "Create a function `check_voter_eligibility(age)` that raises a custom exception `UnderageError` if the user is under 18, and handles this error in a `try-except` block.\n",
    "\n",
    "#### 9. **Re-raising an Exception**  \n",
    "Write a program where you intentionally catch an exception and then re-raise it to propagate it upwards.\n",
    "\n",
    "#### 10. **Raising Custom Exception for Bank Withdrawal**  \n",
    "Create a class `BankAccount` with a method `withdraw(amount)`. Raise a custom `InsufficientFundsError` if the withdrawal amount is greater than the balance.\n"
   ]
  }
 ],
 "metadata": {
  "language_info": {
   "name": "python"
  }
 },
 "nbformat": 4,
 "nbformat_minor": 2
}
