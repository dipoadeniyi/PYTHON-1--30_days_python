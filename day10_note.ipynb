{
 "cells": [
  {
   "cell_type": "markdown",
   "metadata": {},
   "source": [
    "### Welcome to day 10 of 30 days python series\n",
    "\n",
    "- File Handling\n",
    "- Reading & Writing CSV\n",
    "- Reading & Writing JSON file\n",
    "- Exception Handling"
   ]
  },
  {
   "cell_type": "markdown",
   "metadata": {},
   "source": [
    "**Reading and Writing Files**   \n",
    "In Python, you can read files using the built-in open() function. You can specify the mode in which   \n",
    "the file should be opened (e.g., read `'r'`, write `'w'`, append `'a'`)."
   ]
  },
  {
   "cell_type": "code",
   "execution_count": null,
   "metadata": {},
   "outputs": [],
   "source": [
    "open?"
   ]
  },
  {
   "cell_type": "code",
   "execution_count": null,
   "metadata": {},
   "outputs": [],
   "source": [
    "with open('example.txt', 'r') as file:\n",
    "    content = file.readline()\n",
    "    print(content)"
   ]
  },
  {
   "cell_type": "code",
   "execution_count": 13,
   "metadata": {},
   "outputs": [],
   "source": [
    "open('example.txt', 'r').close()"
   ]
  },
  {
   "cell_type": "code",
   "execution_count": null,
   "metadata": {},
   "outputs": [],
   "source": [
    "# Example: Reading a Text File\n",
    "\n",
    "# Open the file in read mode\n",
    "with open('test.txt', 'r') as file:\n",
    "    content = file.read()\n",
    "    print(content)"
   ]
  },
  {
   "cell_type": "markdown",
   "metadata": {},
   "source": [
    "-- `with` keyword ensures the file is properly closed after its suite finishes.  \n",
    "-- `file.read()` reads the entire file content."
   ]
  },
  {
   "cell_type": "markdown",
   "metadata": {},
   "source": [
    "**Writing Files**\n",
    "\n",
    "You can write to a file using the `write()` method.   \n",
    "If the file doesn’t exist, it will be created. \n",
    "If it does exist, its content will be overwritten."
   ]
  },
  {
   "cell_type": "code",
   "execution_count": null,
   "metadata": {},
   "outputs": [],
   "source": [
    "open('day10.text', 'w').write('This is day 10 of pythong \\nThank you for subscribing \\nSee you tomorrow')"
   ]
  },
  {
   "cell_type": "code",
   "execution_count": 19,
   "metadata": {},
   "outputs": [],
   "source": [
    "open('day10.text', 'r').close()"
   ]
  },
  {
   "cell_type": "code",
   "execution_count": 21,
   "metadata": {},
   "outputs": [],
   "source": [
    "open('/Users/zara/Desktop/desktop.text', 'r').close()"
   ]
  },
  {
   "cell_type": "code",
   "execution_count": null,
   "metadata": {},
   "outputs": [],
   "source": [
    "print(open('/Users/zara/Desktop/desktop.text', 'r').read())"
   ]
  },
  {
   "cell_type": "code",
   "execution_count": null,
   "metadata": {},
   "outputs": [],
   "source": [
    "print(open('day10.text', 'r').read())"
   ]
  },
  {
   "cell_type": "code",
   "execution_count": 17,
   "metadata": {},
   "outputs": [],
   "source": [
    "# Open the file in write mode\n",
    "with open('example2.txt', 'w') as file:\n",
    "    file.write('Hello, world!\\n')\n",
    "    file.write('Welcome to file handling in Python.')"
   ]
  },
  {
   "cell_type": "markdown",
   "metadata": {},
   "source": [
    "**Working with CSV Files**\n",
    "\n",
    "Python’s csv module provides functionality to read and write CSV files."
   ]
  },
  {
   "cell_type": "code",
   "execution_count": 28,
   "metadata": {},
   "outputs": [],
   "source": [
    "import csv\n",
    "open('employees.csv', 'r').close()"
   ]
  },
  {
   "cell_type": "code",
   "execution_count": null,
   "metadata": {},
   "outputs": [],
   "source": [
    "with open('employees.csv', 'r') as file:\n",
    "    reader = csv.reader(file)\n",
    "    for row in reader:\n",
    "        print(row)"
   ]
  },
  {
   "cell_type": "code",
   "execution_count": null,
   "metadata": {},
   "outputs": [],
   "source": [
    "import csv\n",
    "\n",
    "# Open the CSV file\n",
    "with open('employees.csv', 'r') as file:\n",
    "    reader = csv.reader(file)\n",
    "    for row in reader:\n",
    "        print(row)"
   ]
  },
  {
   "cell_type": "markdown",
   "metadata": {},
   "source": [
    "Writing to CSV Files"
   ]
  },
  {
   "cell_type": "code",
   "execution_count": 36,
   "metadata": {},
   "outputs": [],
   "source": [
    "with open('emp.csv',  'w', newline='') as file:\n",
    "    x = csv.writer(file)\n",
    "    # adding header\n",
    "    x.writerow(['id', 'name', 'salary'])\n",
    "    x.writerow([101, 'sam', 25500])\n",
    "    x.writerow([102, 'Zara', 45000])\n",
    "    x.writerow([104, 'dodo', 34500])\n"
   ]
  },
  {
   "cell_type": "code",
   "execution_count": 40,
   "metadata": {},
   "outputs": [],
   "source": [
    "# appending new records\n",
    "with open('emp.csv',  'w', newline='') as file:\n",
    "    x = csv.writer(file)\n",
    "\n",
    "    x.writerow([105, 'mike', 25500])\n",
    "    x.writerow([106, 'smith', 45000])\n",
    "    x.writerow([107, 'john', 34500])\n"
   ]
  },
  {
   "cell_type": "code",
   "execution_count": null,
   "metadata": {},
   "outputs": [],
   "source": [
    "print(open('emp.csv', 'r').read())"
   ]
  },
  {
   "cell_type": "code",
   "execution_count": 32,
   "metadata": {},
   "outputs": [],
   "source": [
    "import csv\n",
    "\n",
    "# Open the CSV file in write mode\n",
    "with open('data.csv', 'w', newline='') as file:\n",
    "    writer = csv.writer(file)\n",
    "    writer.writerow(['Name', 'Age', 'City'])\n",
    "    writer.writerow(['Alice', '30', 'New York'])\n",
    "    writer.writerow(['Bob', '25', 'Los Angeles'])\n"
   ]
  },
  {
   "cell_type": "markdown",
   "metadata": {},
   "source": [
    "**Working with JSON Files**\n",
    "\n",
    "Reading JSON Files\n",
    "Python’s `json` module helps to parse JSON data."
   ]
  },
  {
   "cell_type": "code",
   "execution_count": null,
   "metadata": {},
   "outputs": [],
   "source": [
    "with open('data.json', 'r') as file:\n",
    "    data = json.load(file)\n",
    "    print(data)"
   ]
  },
  {
   "cell_type": "markdown",
   "metadata": {},
   "source": [
    "Writing to JSON Files"
   ]
  },
  {
   "cell_type": "code",
   "execution_count": 55,
   "metadata": {},
   "outputs": [],
   "source": [
    "import json\n",
    "\n",
    "data = {\n",
    "    'car': 'bmw',\n",
    "    'model': 2024,\n",
    "    'price': 750000\n",
    "}\n",
    "\n",
    "# Open the JSON file in write mode\n",
    "with open('data.json', 'a') as file:\n",
    "    json.dump(data, file, indent=4)"
   ]
  },
  {
   "cell_type": "markdown",
   "metadata": {},
   "source": [
    "**Exception Handling in File Operations**\n",
    "\n",
    "Handling exceptions is crucial to prevent your program from crashing due to file-related errors, such as file not found or permission errors."
   ]
  },
  {
   "cell_type": "code",
   "execution_count": 67,
   "metadata": {},
   "outputs": [],
   "source": [
    "try:\n",
    "    with open('tdsdest.txt', 'r') as file:\n",
    "        content = file.read()\n",
    "        print(content)\n",
    "except FileNotFoundError:\n",
    "    pass\n",
    "    # print('File not found please enter correct file path')\n",
    "    \n",
    "except IOError:\n",
    "    print('Please check reading more or rest of the code')\n",
    "    "
   ]
  },
  {
   "cell_type": "code",
   "execution_count": 60,
   "metadata": {},
   "outputs": [
    {
     "name": "stdout",
     "output_type": "stream",
     "text": [
      "The file was not found.\n"
     ]
    }
   ],
   "source": [
    "try:\n",
    "    # Attempt to open a file\n",
    "    with open('dsds.txt', 'r') as file:\n",
    "        content = file.read()\n",
    "        print(content)\n",
    "except FileNotFoundError:\n",
    "    print('The file was not found.')\n",
    "except IOError:\n",
    "    print('An error occurred while reading the file.')"
   ]
  },
  {
   "cell_type": "markdown",
   "metadata": {},
   "source": [
    "#### Exercises\n",
    "\n",
    "- Read and Display File Content\n",
    "Create a text file named `sample1.txt` with some content.\n",
    "Write a Python script to read and display the content of sample.txt.\n",
    "CSV Data Analysis\n",
    "\n",
    "- Create a CSV file named `employees1.csv` with columns: Name, Age, Department.\n",
    "Write a Python script to read this CSV file and print each employee's details.\n",
    "JSON Data Handling\n",
    "\n",
    "- Create a JSON file named `info.json` with some sample data (e.g., name, age, country).\n",
    "Write a Python script to read this JSON file and print the data in a readable format.\n",
    "\n",
    "- Exception Handling Practice\n",
    "Write a Python script to open a file in read mode. If the file does not exist, handle the exception by printing an error message."
   ]
  }
 ],
 "metadata": {
  "kernelspec": {
   "display_name": "my_venv",
   "language": "python",
   "name": "python3"
  },
  "language_info": {
   "codemirror_mode": {
    "name": "ipython",
    "version": 3
   },
   "file_extension": ".py",
   "mimetype": "text/x-python",
   "name": "python",
   "nbconvert_exporter": "python",
   "pygments_lexer": "ipython3",
   "version": "3.12.6"
  }
 },
 "nbformat": 4,
 "nbformat_minor": 2
}
