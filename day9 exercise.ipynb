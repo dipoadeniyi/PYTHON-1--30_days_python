{
 "cells": [
  {
   "cell_type": "markdown",
   "metadata": {},
   "source": [
    "### Exercise of Day 09\n",
    "### **Lambda Functions**\n",
    "\n",
    "1. Write a lambda function that takes a number and returns its cube.\n",
    "2. Write a lambda function that returns the first character of a string.\n",
    "3. Write a lambda function that checks if a number is greater than 10.\n",
    "4. Write a lambda function that returns the last character of a string.\n",
    "5. Write a lambda function that takes a list and returns the sum of its elements.\n",
    "\n",
    "### **Map**\n",
    "\n",
    "1. Use `map()` with a lambda function to convert a list of temperatures from Celsius to Fahrenheit.\n",
    "2. Use `map()` with a lambda function to square each number in a list.\n",
    "3. Use `map()` with a lambda function to prepend the string \"Hello, \" to each name in a list of names.\n",
    "4. Use `map()` with a lambda function to calculate the length of each string in a list of strings.\n",
    "5. Use `map()` with a lambda function to add 100 to each element in a list of numbers.\n",
    "\n",
    "### **Filter**\n",
    "\n",
    "1. Use `filter()` with a lambda function to select all even numbers from a list.\n",
    "2. Use `filter()` with a lambda function to get all names that start with the letter 'A' from a list of names.\n",
    "3. Use `filter()` with a lambda function to extract all strings longer than 5 characters from a list.\n",
    "4. Use `filter()` with a lambda function to select numbers greater than 50 from a list.\n",
    "5. Use `filter()` with a lambda function to get all positive numbers from a list of integers.\n",
    "\n",
    "### **Reduce**\n",
    "\n",
    "1. Use `reduce()` with a lambda function to find the maximum number in a list.\n",
    "2. Use `reduce()` with a lambda function to concatenate a list of strings into a single string.\n",
    "3. Use `reduce()` with a lambda function to compute the sum of all elements in a list.\n",
    "4. Use `reduce()` with a lambda function to multiply all elements in a list.\n",
    "5. Use `reduce()` with a lambda function to find the minimum number in a list.\n",
    "\n",
    "### **List Comprehensions**\n",
    "\n",
    "1. Use a list comprehension to create a list of squares of numbers from 1 to 10.\n",
    "2. Use a list comprehension to filter out all odd numbers from a list.\n",
    "3. Use a list comprehension to create a list of strings that are capitalized versions of a given list.\n",
    "4. Use a list comprehension to extract the first letter of each word in a list of words.\n",
    "5. Use a list comprehension to create a list of numbers from 1 to 20 that are divisible by 4."
   ]
  }
 ],
 "metadata": {
  "language_info": {
   "name": "python"
  }
 },
 "nbformat": 4,
 "nbformat_minor": 2
}
