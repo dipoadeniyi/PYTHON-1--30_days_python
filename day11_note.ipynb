{
 "cells": [
  {
   "cell_type": "markdown",
   "metadata": {},
   "source": [
    "### Day 11: Error and Exception Handling in Python"
   ]
  },
  {
   "cell_type": "markdown",
   "metadata": {},
   "source": [
    "**Try and Except Blocks**\n",
    "\n",
    "The `try` block lets you test a block of code for errors.\n",
    "\n",
    "The `except` block lets you handle the error.\n",
    "\n",
    "The `else` block lets you execute code when there is no error.\n",
    "\n",
    "The `finally` block lets you execute code, regardless of the result of the try- and except blocks.\n",
    "\n",
    "- `FileNotFoundError` – Raised when trying to open a file that doesn’t exist.\n",
    "- `NameError` – Raised when a variable or function name is not found in the local or global scope.\n",
    "- `ValueError` – Raised when a function gets an argument of the right type but inappropriate value.\n",
    "- `ZeroDivisionError` – Raised when attempting to divide by zero.\n",
    "- `IOError` – Raised when an I/O operation (like opening a file) fails for an I/O-related reason."
   ]
  },
  {
   "cell_type": "code",
   "execution_count": 48,
   "metadata": {},
   "outputs": [
    {
     "name": "stdout",
     "output_type": "stream",
     "text": [
      "Sorry you cannot devide a number by zero\n"
     ]
    }
   ],
   "source": [
    "try:\n",
    "    x= 10/0\n",
    "    \n",
    "except FileNotFoundError:\n",
    "    print('Sorry file doesnt exist')\n",
    "    \n",
    "except ZeroDivisionError:\n",
    "    print(\"Sorry you cannot devide a number by zero\")\n",
    "else:\n",
    "    print(x)\n",
    "    \n"
   ]
  },
  {
   "cell_type": "code",
   "execution_count": 50,
   "metadata": {},
   "outputs": [],
   "source": [
    "open('test.text', 'r').close()"
   ]
  },
  {
   "cell_type": "code",
   "execution_count": 55,
   "metadata": {},
   "outputs": [
    {
     "name": "stdout",
     "output_type": "stream",
     "text": [
      "Sorry file not found\n"
     ]
    }
   ],
   "source": [
    "try:\n",
    "    open('texttt.text', 'r')\n",
    "except FileNotFoundError:\n",
    "    print(\"Sorry file not found\")"
   ]
  },
  {
   "cell_type": "code",
   "execution_count": 58,
   "metadata": {},
   "outputs": [
    {
     "name": "stdout",
     "output_type": "stream",
     "text": [
      "Sorry file not found\n"
     ]
    }
   ],
   "source": [
    "try:\n",
    "    with open('example1.text', 'r') as file:\n",
    "        content = file.read()\n",
    "except FileNotFoundError:\n",
    "    print(\"Sorry file not found\")\n",
    "else:\n",
    "    print(content)"
   ]
  },
  {
   "cell_type": "code",
   "execution_count": 78,
   "metadata": {},
   "outputs": [
    {
     "name": "stdout",
     "output_type": "stream",
     "text": [
      "Sorry you cannot devide a by zero\n",
      "This is finally block\n",
      "10.0\n"
     ]
    }
   ],
   "source": [
    "# Name Error\n",
    "# a = 20\n",
    "# y=5\n",
    "try:\n",
    "    20/0\n",
    "except ZeroDivisionError:\n",
    "    print('Sorry you cannot devide a by zero')\n",
    "\n",
    "except FileNotFoundError:\n",
    "    print(\"Sorry file a not found\")\n",
    "    \n",
    "except NameError:\n",
    "    print(\"Sorry name a not defined\")\n",
    "    \n",
    "else:\n",
    "    print('This is else block')\n",
    "    print(20/4)\n",
    "finally:\n",
    "    print('This is finally block')\n",
    "    print(20/2)"
   ]
  },
  {
   "cell_type": "code",
   "execution_count": 108,
   "metadata": {},
   "outputs": [
    {
     "name": "stdout",
     "output_type": "stream",
     "text": [
      "File opening mode is not correct\n"
     ]
    }
   ],
   "source": [
    "try:\n",
    "    with open('example.text', 'x') as file:\n",
    "        content = file.read()\n",
    "except FileNotFoundError:\n",
    "    print(\"Sorry file not found\")\n",
    "    \n",
    "except IOError:\n",
    "    print('File opening mode is not correct')\n",
    "else:\n",
    "    print(content)"
   ]
  },
  {
   "cell_type": "code",
   "execution_count": null,
   "metadata": {},
   "outputs": [],
   "source": []
  }
 ],
 "metadata": {
  "kernelspec": {
   "display_name": "my_venv",
   "language": "python",
   "name": "python3"
  },
  "language_info": {
   "codemirror_mode": {
    "name": "ipython",
    "version": 3
   },
   "file_extension": ".py",
   "mimetype": "text/x-python",
   "name": "python",
   "nbconvert_exporter": "python",
   "pygments_lexer": "ipython3",
   "version": "3.12.6"
  }
 },
 "nbformat": 4,
 "nbformat_minor": 2
}
