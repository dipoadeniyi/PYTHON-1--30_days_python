{
 "cells": [
  {
   "cell_type": "markdown",
   "metadata": {},
   "source": [
    "### **Tasks and Coding Exercises**\n",
    "\n",
    "1. Create a variable called `name` and assign it your name. Print a message saying \"Hello, [name]!\" using an f-string.\n",
    "2. Declare two variables, `x` and `y`, with values 20 and 4, respectively. Calculate their sum, difference, product, and quotient.\n",
    "3. Write a Python program that asks the user for their age and checks if they are eligible to vote (age >= 18).\n",
    "4. Create a variable `pi` with the value 3.14159. Use it to calculate and print the area of a circle with radius 7.\n",
    "5. Write a program that takes two numbers from the user and prints whether the first number is greater than, less than, or equal to the second number.\n",
    "6. Declare a Boolean variable called `is_raining` and set it to `True` or `False`. Use it to print \"Take an umbrella\" if it is raining, otherwise print \"Enjoy the sunshine\".\n",
    "7. Write a Python program that takes two numbers from the user and prints the result of their division. Make sure to handle the case when the second number is zero.\n",
    "8. Write a Python program that converts Celsius to Fahrenheit. Formula: `F = (C * 9/5) + 32`.\n",
    "9. Create a Python program that takes a number from the user and checks whether it is even or odd.\n",
    "10. Write a program that takes a string from the user and prints whether it is a palindrome (the same forwards and backwards)."
   ]
  },
  {
   "cell_type": "code",
   "execution_count": null,
   "metadata": {},
   "outputs": [],
   "source": []
  }
 ],
 "metadata": {
  "kernelspec": {
   "display_name": "my_venv",
   "language": "python",
   "name": "python3"
  },
  "language_info": {
   "codemirror_mode": {
    "name": "ipython",
    "version": 3
   },
   "file_extension": ".py",
   "mimetype": "text/x-python",
   "name": "python",
   "nbconvert_exporter": "python",
   "pygments_lexer": "ipython3",
   "version": "3.12.6"
  }
 },
 "nbformat": 4,
 "nbformat_minor": 2
}
