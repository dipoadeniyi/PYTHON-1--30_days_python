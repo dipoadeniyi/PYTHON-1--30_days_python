{
 "cells": [
  {
   "cell_type": "markdown",
   "metadata": {},
   "source": [
    "### Welcome to day 4\n",
    "\n",
    "- Lists\n",
    "- Tuples\n",
    "- Sets\n",
    "- 1 mini project : Grocery List Manager"
   ]
  },
  {
   "cell_type": "markdown",
   "metadata": {},
   "source": [
    "**Lists**  [] -- squared brackets  \n",
    "A list is a mutable (changeable) sequence of items. Lists can contain elements of different data types, including other lists."
   ]
  },
  {
   "cell_type": "code",
   "execution_count": 80,
   "metadata": {},
   "outputs": [
    {
     "name": "stdout",
     "output_type": "stream",
     "text": [
      "['Spider Man', 122, 3.55, True, 'Joker', 'Lucy', 'Titanic', 'Inception']\n"
     ]
    }
   ],
   "source": [
    "movies = ['Spider Man', 122, 3.55, True, 'Joker', 'Lucy', 'Titanic', 'Inception']\n",
    "\n",
    "print(movies)"
   ]
  },
  {
   "cell_type": "code",
   "execution_count": 75,
   "metadata": {},
   "outputs": [
    {
     "data": {
      "text/plain": [
       "['Joker', 'Lucy', 'Titanic', 'Inception']"
      ]
     },
     "execution_count": 75,
     "metadata": {},
     "output_type": "execute_result"
    }
   ],
   "source": [
    "# slice\n",
    "\n",
    "# movies[start_index : end_index]\n",
    "new_film = movies[-4:]\n",
    "new_film"
   ]
  },
  {
   "cell_type": "code",
   "execution_count": 51,
   "metadata": {},
   "outputs": [
    {
     "data": {
      "text/plain": [
       "['Joker', 'Lucy', 'Titanic', 'Inception', 'Spider Man', 'Spider Man', 250]"
      ]
     },
     "execution_count": 51,
     "metadata": {},
     "output_type": "execute_result"
    }
   ],
   "source": [
    "new_film.append(250)\n",
    "new_film"
   ]
  },
  {
   "cell_type": "code",
   "execution_count": 74,
   "metadata": {},
   "outputs": [
    {
     "ename": "ValueError",
     "evalue": "list.remove(x): x not in list",
     "output_type": "error",
     "traceback": [
      "\u001b[0;31m---------------------------------------------------------------------------\u001b[0m",
      "\u001b[0;31mValueError\u001b[0m                                Traceback (most recent call last)",
      "Cell \u001b[0;32mIn[74], line 1\u001b[0m\n\u001b[0;32m----> 1\u001b[0m \u001b[43mnew_film\u001b[49m\u001b[38;5;241;43m.\u001b[39;49m\u001b[43mremove\u001b[49m\u001b[43m(\u001b[49m\u001b[38;5;241;43m250\u001b[39;49m\u001b[43m)\u001b[49m\n\u001b[1;32m      2\u001b[0m new_film\n",
      "\u001b[0;31mValueError\u001b[0m: list.remove(x): x not in list"
     ]
    }
   ],
   "source": [
    "new_film.remove(250)\n",
    "new_film"
   ]
  },
  {
   "cell_type": "code",
   "execution_count": 56,
   "metadata": {},
   "outputs": [
    {
     "data": {
      "text/plain": [
       "['Joker', 'Lucy', 'Titanic', 'Inception']"
      ]
     },
     "execution_count": 56,
     "metadata": {},
     "output_type": "execute_result"
    }
   ],
   "source": [
    "new_film.pop()\n",
    "new_film"
   ]
  },
  {
   "cell_type": "code",
   "execution_count": 66,
   "metadata": {},
   "outputs": [
    {
     "data": {
      "text/plain": [
       "[7, 6, 5, 2, 1, 0]"
      ]
     },
     "execution_count": 66,
     "metadata": {},
     "output_type": "execute_result"
    }
   ],
   "source": [
    "my_fav_no = [ 2, 5, 7, 1, 6 , 0]\n",
    "\n",
    "# sort accending \n",
    "# type(my_fav_no)\n",
    "my_fav_no.sort()\n",
    "\n",
    "my_fav_no\n",
    "# sort desc\n",
    "my_fav_no.sort(reverse=True)\n",
    "my_fav_no"
   ]
  },
  {
   "cell_type": "code",
   "execution_count": 68,
   "metadata": {},
   "outputs": [
    {
     "data": {
      "text/plain": [
       "[]"
      ]
     },
     "execution_count": 68,
     "metadata": {},
     "output_type": "execute_result"
    }
   ],
   "source": [
    "# new_film.\n",
    "\n",
    "new_film"
   ]
  },
  {
   "cell_type": "code",
   "execution_count": 61,
   "metadata": {},
   "outputs": [
    {
     "data": {
      "text/plain": [
       "['Titanic', 'Lucy', 'Joker', 'Inception']"
      ]
     },
     "execution_count": 61,
     "metadata": {},
     "output_type": "execute_result"
    }
   ],
   "source": [
    "new_film.sort(reverse=True)\n",
    "new_film"
   ]
  },
  {
   "cell_type": "code",
   "execution_count": 26,
   "metadata": {},
   "outputs": [
    {
     "data": {
      "text/plain": [
       "4"
      ]
     },
     "execution_count": 26,
     "metadata": {},
     "output_type": "execute_result"
    }
   ],
   "source": [
    "movies.index('Joker')"
   ]
  },
  {
   "cell_type": "markdown",
   "metadata": {},
   "source": [
    "**List Functions**\n",
    "- .Indexing\n",
    "- Slicing\n",
    "- appent()\n",
    "- remove\n",
    "- pop()\n",
    "- sort()"
   ]
  },
  {
   "cell_type": "code",
   "execution_count": 85,
   "metadata": {},
   "outputs": [
    {
     "data": {
      "text/plain": [
       "[10, 122, 3.55, False, 'Joker', 'Lucy', 'Titanic', 'Inception']"
      ]
     },
     "execution_count": 85,
     "metadata": {},
     "output_type": "execute_result"
    }
   ],
   "source": [
    "# movies[0] = 10\n",
    "movies[3] = False\n",
    "movies"
   ]
  },
  {
   "cell_type": "markdown",
   "metadata": {},
   "source": [
    "**Tuples** () -- parenthesis  \n",
    "A tuple is an immutable (unchangeable) sequence of items. Once created, elements in a tuple cannot be modified.\n",
    "\n",
    "**Tuples Functions**\n",
    "- Indexing\n",
    "- Slicing"
   ]
  },
  {
   "cell_type": "code",
   "execution_count": 73,
   "metadata": {},
   "outputs": [
    {
     "data": {
      "text/plain": [
       "('Inception', 'Spider Man', 'Spider Man')"
      ]
     },
     "execution_count": 73,
     "metadata": {},
     "output_type": "execute_result"
    }
   ],
   "source": [
    "movies_t = ('Joker', 'Lucy', 'Titanic', 'Inception', 'Spider Man', 'Spider Man')\n",
    "\n",
    "# type(movies_t)\n",
    "\n",
    "# movies_t.index('Spider Man')\n",
    "\n",
    "# slicing in tuples\n",
    "\n",
    "# movies_t[-3:]\n",
    "\n"
   ]
  },
  {
   "cell_type": "code",
   "execution_count": 97,
   "metadata": {},
   "outputs": [
    {
     "data": {
      "text/plain": [
       "('Data Engineering', 'Data Analyst', 'Dev Ops', 'ML Engineering')"
      ]
     },
     "execution_count": 97,
     "metadata": {},
     "output_type": "execute_result"
    }
   ],
   "source": [
    "my_list = ['Data Engineering', 'Data Analyst', 'Dev Ops', 'ML Engineering']\n",
    "type(my_list)\n",
    "\n",
    "# list to types\n",
    "# type casting\n",
    "new_t = tuple(my_list)\n",
    "type(new_t)\n",
    "new_t"
   ]
  },
  {
   "cell_type": "code",
   "execution_count": 101,
   "metadata": {},
   "outputs": [
    {
     "data": {
      "text/plain": [
       "list"
      ]
     },
     "execution_count": 101,
     "metadata": {},
     "output_type": "execute_result"
    }
   ],
   "source": [
    "clouds = (\"AWS\", \"GCP\", \"Azure\", \"Alibaba\")\n",
    "\n",
    "# tuples to list\n",
    "type(clouds)\n",
    "\n",
    "new_list = list(clouds)\n",
    "type(new_list)"
   ]
  },
  {
   "cell_type": "code",
   "execution_count": 115,
   "metadata": {},
   "outputs": [
    {
     "data": {
      "text/plain": [
       "('AWS', 'GCP', 'Azure', 'Dell')"
      ]
     },
     "execution_count": 115,
     "metadata": {},
     "output_type": "execute_result"
    }
   ],
   "source": [
    "# clouds = (\"AWS\", \"GCP\", \"Azure\", \"Alibaba\")\n",
    "# we want to change alibaba to dell\n",
    "\n",
    "clouds = (\"AWS\", \"GCP\", \"Azure\", \"Alibaba\")\n",
    "\n",
    "# clouds[-1] = \"Dell\"\n",
    "cloud_list = list(clouds)\n",
    "cloud_list[-1] = \"Dell\"\n",
    "\n",
    "cloud_list_tuple = tuple(cloud_list)\n",
    "\n",
    "clouds = cloud_list_tuple\n",
    "clouds"
   ]
  },
  {
   "cell_type": "markdown",
   "metadata": {},
   "source": [
    "**type casting**\n",
    "- list()\n",
    "- tuples()"
   ]
  },
  {
   "cell_type": "markdown",
   "metadata": {
    "vscode": {
     "languageId": "plaintext"
    }
   },
   "source": [
    "**Sets** {} -- Curly Brackets  \n",
    "A set is an unordered collection of unique items. Sets do not allow duplicate elements.\n",
    "- we can store diff data types  \n",
    "- it automatically eleminate the duplcate"
   ]
  },
  {
   "cell_type": "code",
   "execution_count": 121,
   "metadata": {},
   "outputs": [],
   "source": [
    "my_set1 = {1, 2, 4}\n",
    "my_set2 = {4, 5, 6}"
   ]
  },
  {
   "cell_type": "code",
   "execution_count": 124,
   "metadata": {},
   "outputs": [
    {
     "data": {
      "text/plain": [
       "{1, 2, 4, 5, 6}"
      ]
     },
     "execution_count": 124,
     "metadata": {},
     "output_type": "execute_result"
    }
   ],
   "source": [
    "# union\n",
    "union_set = (my_set1 | my_set2)\n",
    "union_set"
   ]
  },
  {
   "cell_type": "code",
   "execution_count": 126,
   "metadata": {},
   "outputs": [
    {
     "data": {
      "text/plain": [
       "{4}"
      ]
     },
     "execution_count": 126,
     "metadata": {},
     "output_type": "execute_result"
    }
   ],
   "source": [
    "intersect_set = (my_set1 & my_set2)\n",
    "intersect_set"
   ]
  },
  {
   "cell_type": "code",
   "execution_count": 129,
   "metadata": {},
   "outputs": [
    {
     "data": {
      "text/plain": [
       "{5, 6}"
      ]
     },
     "execution_count": 129,
     "metadata": {},
     "output_type": "execute_result"
    }
   ],
   "source": [
    "minus_set = (my_set2 - my_set1)\n",
    "minus_set"
   ]
  },
  {
   "cell_type": "code",
   "execution_count": 131,
   "metadata": {},
   "outputs": [
    {
     "data": {
      "text/plain": [
       "{1, 2, 4}"
      ]
     },
     "execution_count": 131,
     "metadata": {},
     "output_type": "execute_result"
    }
   ],
   "source": [
    "my_set1"
   ]
  },
  {
   "cell_type": "code",
   "execution_count": 132,
   "metadata": {},
   "outputs": [
    {
     "data": {
      "text/plain": [
       "{4, 5, 6}"
      ]
     },
     "execution_count": 132,
     "metadata": {},
     "output_type": "execute_result"
    }
   ],
   "source": [
    "my_set2"
   ]
  },
  {
   "cell_type": "code",
   "execution_count": 130,
   "metadata": {},
   "outputs": [
    {
     "data": {
      "text/plain": [
       "{1, 2, 5, 6}"
      ]
     },
     "execution_count": 130,
     "metadata": {},
     "output_type": "execute_result"
    }
   ],
   "source": [
    "s_set = (my_set1 ^ my_set2)\n",
    "s_set"
   ]
  },
  {
   "cell_type": "code",
   "execution_count": 139,
   "metadata": {},
   "outputs": [
    {
     "data": {
      "text/plain": [
       "{1, 2, 4}"
      ]
     },
     "execution_count": 139,
     "metadata": {},
     "output_type": "execute_result"
    }
   ],
   "source": [
    "my_set1 = {1, 2, 4}\n",
    "my_set1"
   ]
  },
  {
   "cell_type": "code",
   "execution_count": 143,
   "metadata": {},
   "outputs": [
    {
     "data": {
      "text/plain": [
       "{1, 2, 4, 'iPhone 15'}"
      ]
     },
     "execution_count": 143,
     "metadata": {},
     "output_type": "execute_result"
    }
   ],
   "source": [
    "my_set = {1, 2, 4, \"iPhone 15\", \"iPhone 15\"}\n",
    "my_set"
   ]
  },
  {
   "cell_type": "code",
   "execution_count": 140,
   "metadata": {},
   "outputs": [
    {
     "data": {
      "text/plain": [
       "{1, 4}"
      ]
     },
     "execution_count": 140,
     "metadata": {},
     "output_type": "execute_result"
    }
   ],
   "source": [
    "my_set1.remove(2)\n",
    "my_set1"
   ]
  },
  {
   "cell_type": "markdown",
   "metadata": {
    "vscode": {
     "languageId": "plaintext"
    }
   },
   "source": [
    "**Set Operations**\n",
    "- Union (|): Combines two sets.  \n",
    "- Intersection (&): Returns common elements.  \n",
    "- Difference (-): Returns elements in one set but not the other.\n",
    "- Symmetric Difference (^): Returns elements in either set but not both."
   ]
  },
  {
   "cell_type": "markdown",
   "metadata": {},
   "source": [
    "### Mini Project\n",
    "\n",
    "**Project 1: Grocery List Manager**\n",
    "\n",
    "Objective:\n",
    "Create a simple grocery list manager where users can add items, view the list, and remove duplicates (using set functionality).\n",
    "\n",
    "Steps:\n",
    "Ask the user to input grocery items (comma-separated).  \n",
    "Store these items in a list.  \n",
    "Convert the list to a set to remove duplicates.  \n",
    "Display the updated grocery list.  "
   ]
  }
 ],
 "metadata": {
  "kernelspec": {
   "display_name": "my_venv",
   "language": "python",
   "name": "python3"
  },
  "language_info": {
   "codemirror_mode": {
    "name": "ipython",
    "version": 3
   },
   "file_extension": ".py",
   "mimetype": "text/x-python",
   "name": "python",
   "nbconvert_exporter": "python",
   "pygments_lexer": "ipython3",
   "version": "3.12.6"
  }
 },
 "nbformat": 4,
 "nbformat_minor": 2
}
