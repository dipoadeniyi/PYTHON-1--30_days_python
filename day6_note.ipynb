{
 "cells": [
  {
   "cell_type": "markdown",
   "metadata": {},
   "source": [
    "### Day 6: Conditional Statements (if, elif, else)\n",
    "- if condition\n",
    "- elif\n",
    "- else\n",
    "- Nested conditionals\n",
    "- Ternary operator"
   ]
  },
  {
   "cell_type": "markdown",
   "metadata": {},
   "source": [
    "**Ternary operator**\n",
    "        \n",
    "value_if_true if condition else value_if_false"
   ]
  },
  {
   "cell_type": "code",
   "execution_count": 48,
   "metadata": {},
   "outputs": [
    {
     "name": "stdout",
     "output_type": "stream",
     "text": [
      "my salary is very less its not even 50k\n"
     ]
    }
   ],
   "source": [
    "salary = 15000\n",
    "\n",
    "print(\"Salary is more than 50k\") if salary > 50000 else print(\"my salary is very less its not even 50k\")"
   ]
  },
  {
   "cell_type": "code",
   "execution_count": 49,
   "metadata": {},
   "outputs": [
    {
     "name": "stdout",
     "output_type": "stream",
     "text": [
      "This year iphone is so expensive its more than 1k\n"
     ]
    }
   ],
   "source": [
    "iPhone = 1299\n",
    "\n",
    "print(\"This year iphone is so expensive its more than 1k\") if iPhone > 1000 else print(\"New iPhone is less expensive\")\n",
    "    "
   ]
  },
  {
   "cell_type": "code",
   "execution_count": 8,
   "metadata": {},
   "outputs": [
    {
     "name": "stdout",
     "output_type": "stream",
     "text": [
      "x\n"
     ]
    }
   ],
   "source": [
    "num = 0\n",
    "\n",
    "num\n",
    "if num >= 0:\n",
    "    print(\"x\")"
   ]
  },
  {
   "cell_type": "code",
   "execution_count": 13,
   "metadata": {},
   "outputs": [
    {
     "name": "stdout",
     "output_type": "stream",
     "text": [
      "I am adult and my age is 27\n"
     ]
    }
   ],
   "source": [
    "age = 27\n",
    "\n",
    "if age > 20:\n",
    "    #all my code here\n",
    "    print(f\"I am adult and my age is {age}\")"
   ]
  },
  {
   "cell_type": "code",
   "execution_count": 15,
   "metadata": {},
   "outputs": [
    {
     "name": "stdout",
     "output_type": "stream",
     "text": [
      "Today is Tuesday\n"
     ]
    }
   ],
   "source": [
    "today = \"Monday\"\n",
    "\n",
    "if today == \"Monday\":\n",
    "    print(\"Today is Tuesday\")"
   ]
  },
  {
   "cell_type": "code",
   "execution_count": 20,
   "metadata": {},
   "outputs": [
    {
     "name": "stdout",
     "output_type": "stream",
     "text": [
      "My age is not greater than 20\n"
     ]
    }
   ],
   "source": [
    "# if else\n",
    "\n",
    "my_age = 17\n",
    "\n",
    "if my_age > 20:\n",
    "    #all my code here\n",
    "    print(f\"I am adult and my age is {age}\")\n",
    "    print(\"I am adult\")\n",
    "    print(\"My age is more than 25\")\n",
    "    print(\"xxxxxx\")\n",
    "else:\n",
    "    print(\"My age is not greater than 20\")\n"
   ]
  },
  {
   "cell_type": "code",
   "execution_count": 22,
   "metadata": {},
   "outputs": [
    {
     "name": "stdout",
     "output_type": "stream",
     "text": [
      "Outside weather is good\n",
      "We can go outside\n"
     ]
    }
   ],
   "source": [
    "temp = 29\n",
    "\n",
    "if temp > 30:\n",
    "    print(\"It's hot outside!\")\n",
    "    print(\"Don't go outside\")\n",
    "else:\n",
    "    print(\"Outside weather is good\")\n",
    "    print(\"We can go outside\")\n"
   ]
  },
  {
   "cell_type": "code",
   "execution_count": 27,
   "metadata": {},
   "outputs": [
    {
     "name": "stdout",
     "output_type": "stream",
     "text": [
      "Login success!\n",
      "7\n"
     ]
    }
   ],
   "source": [
    "password = input(\"Please enter your password :\")\n",
    "\n",
    "if password == 'abc123':\n",
    "    print(\"Login success!\")\n",
    "    x = 2 + 5\n",
    "    print(x)\n",
    "    \n",
    "else:\n",
    "    print(\"Please try again incorrect password\")"
   ]
  },
  {
   "cell_type": "code",
   "execution_count": 36,
   "metadata": {},
   "outputs": [],
   "source": [
    "# elif\n",
    "\n",
    "salary = 11111\n",
    "\n",
    "if salary > 50000:\n",
    "    print(\"Salary is extemly good\")\n",
    "    \n",
    "elif salary > 35000:\n",
    "    print(\"Salary is not bad!\")\n",
    "    \n",
    "elif salary > 20000:\n",
    "    print(\"Salary is ok ok!\")\n",
    "    \n",
    "else:\n",
    "    print(\"salary is extemly low\")\n"
   ]
  },
  {
   "cell_type": "code",
   "execution_count": null,
   "metadata": {},
   "outputs": [],
   "source": [
    "# 10 % 2 == 1"
   ]
  },
  {
   "cell_type": "code",
   "execution_count": 43,
   "metadata": {},
   "outputs": [
    {
     "name": "stdout",
     "output_type": "stream",
     "text": [
      "Number is positive even\n",
      "It's a big positive enven number\n"
     ]
    }
   ],
   "source": [
    "# nested if condition\n",
    "\n",
    "number = 120000\n",
    "\n",
    "if number % 2 == 0:\n",
    "    # print(\"Number is even\")\n",
    "    if number > 0:\n",
    "        print(\"Number is positive even\")\n",
    "        if number > 10000:\n",
    "            print(\"It's a big positive enven number\")\n",
    "        else:\n",
    "            print(\"Number is small positive enven number\")\n",
    "    else:\n",
    "        print(\"Number is negative even number\")\n",
    "    \n",
    "else:\n",
    "    print(\"Number is odd\")\n"
   ]
  },
  {
   "cell_type": "code",
   "execution_count": null,
   "metadata": {},
   "outputs": [],
   "source": [
    "# First project\n",
    "# This project takes a number from users and than check its prime or not"
   ]
  },
  {
   "cell_type": "markdown",
   "metadata": {},
   "source": [
    "### Mini Project\n",
    "1. Write a Python program to check if a number is odd or even.(It should take input from users and than return the results)\n",
    "2. Shopping Discount System:\n",
    "- Ask user the product name, ask the price and quantity check if the total is more than certail threshold offer x amount of on the total cart and print discounted amount and net amount to be paid!"
   ]
  },
  {
   "cell_type": "code",
   "execution_count": null,
   "metadata": {},
   "outputs": [],
   "source": []
  }
 ],
 "metadata": {
  "kernelspec": {
   "display_name": "my_venv",
   "language": "python",
   "name": "python3"
  },
  "language_info": {
   "codemirror_mode": {
    "name": "ipython",
    "version": 3
   },
   "file_extension": ".py",
   "mimetype": "text/x-python",
   "name": "python",
   "nbconvert_exporter": "python",
   "pygments_lexer": "ipython3",
   "version": "3.12.6"
  }
 },
 "nbformat": 4,
 "nbformat_minor": 2
}
